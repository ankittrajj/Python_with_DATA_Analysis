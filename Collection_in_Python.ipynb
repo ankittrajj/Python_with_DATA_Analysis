{
 "cells": [
  {
   "cell_type": "code",
   "execution_count": 1,
   "id": "5b73b59e",
   "metadata": {},
   "outputs": [],
   "source": [
    "#list\n",
    "my_list = ['apple','sev',23,True]"
   ]
  },
  {
   "cell_type": "code",
   "execution_count": 2,
   "id": "4e54eaac",
   "metadata": {},
   "outputs": [
    {
     "name": "stdout",
     "output_type": "stream",
     "text": [
      "['apple', 'sev', 23, True]\n"
     ]
    }
   ],
   "source": [
    "print(my_list)"
   ]
  },
  {
   "cell_type": "code",
   "execution_count": 3,
   "id": "126d572e",
   "metadata": {},
   "outputs": [
    {
     "name": "stdout",
     "output_type": "stream",
     "text": [
      "23\n"
     ]
    }
   ],
   "source": [
    "print(my_list[2])"
   ]
  },
  {
   "cell_type": "code",
   "execution_count": 14,
   "id": "ab4bdc7c",
   "metadata": {},
   "outputs": [
    {
     "name": "stdout",
     "output_type": "stream",
     "text": [
      "['apple', 'sev', 23]\n"
     ]
    }
   ],
   "source": [
    "print(my_list[:-1])"
   ]
  },
  {
   "cell_type": "code",
   "execution_count": 15,
   "id": "026af658",
   "metadata": {},
   "outputs": [],
   "source": [
    "my_list[0]=22"
   ]
  },
  {
   "cell_type": "code",
   "execution_count": 20,
   "id": "116e1661",
   "metadata": {},
   "outputs": [
    {
     "name": "stdout",
     "output_type": "stream",
     "text": [
      "[22, 'sev', 23, True]\n"
     ]
    }
   ],
   "source": [
    "print(my_list)"
   ]
  },
  {
   "cell_type": "markdown",
   "id": "4312a3ff",
   "metadata": {},
   "source": [
    "# List Methods"
   ]
  },
  {
   "cell_type": "code",
   "execution_count": 38,
   "id": "00ce89df",
   "metadata": {},
   "outputs": [
    {
     "name": "stdout",
     "output_type": "stream",
     "text": [
      "[22, 56, 9, 8, 12, -1]\n"
     ]
    }
   ],
   "source": [
    "x =[22,56,9,8,12,-1]\n",
    "print(x)"
   ]
  },
  {
   "cell_type": "code",
   "execution_count": 39,
   "id": "d5264545",
   "metadata": {},
   "outputs": [],
   "source": [
    "x.sort()\n"
   ]
  },
  {
   "cell_type": "code",
   "execution_count": 40,
   "id": "403d38f0",
   "metadata": {},
   "outputs": [
    {
     "name": "stdout",
     "output_type": "stream",
     "text": [
      "[-1, 8, 9, 12, 22, 56]\n"
     ]
    }
   ],
   "source": [
    "print(x)"
   ]
  },
  {
   "cell_type": "code",
   "execution_count": 41,
   "id": "84f1165d",
   "metadata": {},
   "outputs": [],
   "source": [
    "x.reverse()"
   ]
  },
  {
   "cell_type": "code",
   "execution_count": 42,
   "id": "ff7519f9",
   "metadata": {},
   "outputs": [
    {
     "data": {
      "text/plain": [
       "[56, 22, 12, 9, 8, -1]"
      ]
     },
     "execution_count": 42,
     "metadata": {},
     "output_type": "execute_result"
    }
   ],
   "source": [
    "x"
   ]
  },
  {
   "cell_type": "code",
   "execution_count": 43,
   "id": "d147fe35",
   "metadata": {},
   "outputs": [],
   "source": [
    "x.append(222)"
   ]
  },
  {
   "cell_type": "code",
   "execution_count": 44,
   "id": "faaec8ef",
   "metadata": {},
   "outputs": [
    {
     "data": {
      "text/plain": [
       "[56, 22, 12, 9, 8, -1, 222]"
      ]
     },
     "execution_count": 44,
     "metadata": {},
     "output_type": "execute_result"
    }
   ],
   "source": [
    "x"
   ]
  },
  {
   "cell_type": "code",
   "execution_count": 45,
   "id": "fd2039fe",
   "metadata": {},
   "outputs": [],
   "source": [
    "x.insert(0,111)"
   ]
  },
  {
   "cell_type": "code",
   "execution_count": 46,
   "id": "bb0677ff",
   "metadata": {},
   "outputs": [
    {
     "data": {
      "text/plain": [
       "[111, 56, 22, 12, 9, 8, -1, 222]"
      ]
     },
     "execution_count": 46,
     "metadata": {},
     "output_type": "execute_result"
    }
   ],
   "source": [
    "x"
   ]
  },
  {
   "cell_type": "code",
   "execution_count": 47,
   "id": "9d906cda",
   "metadata": {},
   "outputs": [],
   "source": [
    "x=['abc','jkl',22]"
   ]
  },
  {
   "cell_type": "code",
   "execution_count": 48,
   "id": "28469900",
   "metadata": {},
   "outputs": [],
   "source": [
    "x.reverse()"
   ]
  },
  {
   "cell_type": "code",
   "execution_count": 49,
   "id": "66190c9f",
   "metadata": {},
   "outputs": [
    {
     "data": {
      "text/plain": [
       "[22, 'jkl', 'abc']"
      ]
     },
     "execution_count": 49,
     "metadata": {},
     "output_type": "execute_result"
    }
   ],
   "source": [
    "x"
   ]
  },
  {
   "cell_type": "code",
   "execution_count": 50,
   "id": "b55c95b2",
   "metadata": {},
   "outputs": [],
   "source": [
    "x.append('ankit')"
   ]
  },
  {
   "cell_type": "code",
   "execution_count": 51,
   "id": "7c683ce2",
   "metadata": {},
   "outputs": [
    {
     "data": {
      "text/plain": [
       "[22, 'jkl', 'abc', 'ankit']"
      ]
     },
     "execution_count": 51,
     "metadata": {},
     "output_type": "execute_result"
    }
   ],
   "source": [
    "x"
   ]
  },
  {
   "cell_type": "code",
   "execution_count": 52,
   "id": "e2057ce1",
   "metadata": {},
   "outputs": [
    {
     "data": {
      "text/plain": [
       "22"
      ]
     },
     "execution_count": 52,
     "metadata": {},
     "output_type": "execute_result"
    }
   ],
   "source": [
    "x.pop(0)"
   ]
  },
  {
   "cell_type": "code",
   "execution_count": 53,
   "id": "3c84ee55",
   "metadata": {},
   "outputs": [
    {
     "data": {
      "text/plain": [
       "['jkl', 'abc', 'ankit']"
      ]
     },
     "execution_count": 53,
     "metadata": {},
     "output_type": "execute_result"
    }
   ],
   "source": [
    "x"
   ]
  },
  {
   "cell_type": "code",
   "execution_count": 58,
   "id": "c4c42fe7",
   "metadata": {},
   "outputs": [],
   "source": [
    "x.remove('ankit')"
   ]
  },
  {
   "cell_type": "code",
   "execution_count": 59,
   "id": "de86b979",
   "metadata": {},
   "outputs": [
    {
     "data": {
      "text/plain": [
       "['jkl']"
      ]
     },
     "execution_count": 59,
     "metadata": {},
     "output_type": "execute_result"
    }
   ],
   "source": [
    "x"
   ]
  },
  {
   "cell_type": "markdown",
   "id": "be14ab75",
   "metadata": {},
   "source": [
    "# Tuple"
   ]
  },
  {
   "cell_type": "code",
   "execution_count": 60,
   "id": "7969ddac",
   "metadata": {},
   "outputs": [],
   "source": [
    "a='ankir'"
   ]
  },
  {
   "cell_type": "code",
   "execution_count": 61,
   "id": "2b3151da",
   "metadata": {},
   "outputs": [
    {
     "data": {
      "text/plain": [
       "'ankir'"
      ]
     },
     "execution_count": 61,
     "metadata": {},
     "output_type": "execute_result"
    }
   ],
   "source": [
    "a"
   ]
  },
  {
   "cell_type": "code",
   "execution_count": 62,
   "id": "a31c63ba",
   "metadata": {},
   "outputs": [],
   "source": [
    "t =(1,2,3,4)"
   ]
  },
  {
   "cell_type": "code",
   "execution_count": 66,
   "id": "f20e350c",
   "metadata": {},
   "outputs": [
    {
     "data": {
      "text/plain": [
       "1"
      ]
     },
     "execution_count": 66,
     "metadata": {},
     "output_type": "execute_result"
    }
   ],
   "source": [
    "t[0]"
   ]
  },
  {
   "cell_type": "code",
   "execution_count": 67,
   "id": "5d3dd044",
   "metadata": {},
   "outputs": [],
   "source": [
    "x =()"
   ]
  },
  {
   "cell_type": "code",
   "execution_count": 68,
   "id": "dda35c8e",
   "metadata": {},
   "outputs": [
    {
     "data": {
      "text/plain": [
       "()"
      ]
     },
     "execution_count": 68,
     "metadata": {},
     "output_type": "execute_result"
    }
   ],
   "source": [
    "x"
   ]
  },
  {
   "cell_type": "code",
   "execution_count": 70,
   "id": "c3e731c2",
   "metadata": {},
   "outputs": [
    {
     "name": "stdout",
     "output_type": "stream",
     "text": [
      "<class 'tuple'>\n"
     ]
    }
   ],
   "source": [
    "print(type(x))"
   ]
  },
  {
   "cell_type": "code",
   "execution_count": 74,
   "id": "b33af61d",
   "metadata": {},
   "outputs": [],
   "source": [
    "x=(1,)"
   ]
  },
  {
   "cell_type": "code",
   "execution_count": 75,
   "id": "b00604cd",
   "metadata": {},
   "outputs": [
    {
     "data": {
      "text/plain": [
       "(1,)"
      ]
     },
     "execution_count": 75,
     "metadata": {},
     "output_type": "execute_result"
    }
   ],
   "source": [
    "x"
   ]
  },
  {
   "cell_type": "code",
   "execution_count": 76,
   "id": "4a3a0ff4",
   "metadata": {},
   "outputs": [
    {
     "data": {
      "text/plain": [
       "tuple"
      ]
     },
     "execution_count": 76,
     "metadata": {},
     "output_type": "execute_result"
    }
   ],
   "source": [
    "type(x)"
   ]
  },
  {
   "cell_type": "code",
   "execution_count": 77,
   "id": "dd11aac5",
   "metadata": {},
   "outputs": [
    {
     "data": {
      "text/plain": [
       "1"
      ]
     },
     "execution_count": 77,
     "metadata": {},
     "output_type": "execute_result"
    }
   ],
   "source": [
    "t.count(1)"
   ]
  },
  {
   "cell_type": "code",
   "execution_count": 78,
   "id": "737ad6b6",
   "metadata": {},
   "outputs": [],
   "source": [
    "x=(1,222,1,3,2,22,34,3)"
   ]
  },
  {
   "cell_type": "code",
   "execution_count": 80,
   "id": "31607580",
   "metadata": {},
   "outputs": [
    {
     "data": {
      "text/plain": [
       "2"
      ]
     },
     "execution_count": 80,
     "metadata": {},
     "output_type": "execute_result"
    }
   ],
   "source": [
    "x.count(1)"
   ]
  },
  {
   "cell_type": "code",
   "execution_count": 90,
   "id": "d2fa5547",
   "metadata": {},
   "outputs": [],
   "source": [
    "x=('ankit',1,2,1,1,1,1)"
   ]
  },
  {
   "cell_type": "code",
   "execution_count": 91,
   "id": "19531ae2",
   "metadata": {},
   "outputs": [
    {
     "data": {
      "text/plain": [
       "('ankit', 1, 2, 1, 1, 1, 1)"
      ]
     },
     "execution_count": 91,
     "metadata": {},
     "output_type": "execute_result"
    }
   ],
   "source": [
    "x"
   ]
  },
  {
   "cell_type": "code",
   "execution_count": 95,
   "id": "dc8d547c",
   "metadata": {},
   "outputs": [
    {
     "data": {
      "text/plain": [
       "5"
      ]
     },
     "execution_count": 95,
     "metadata": {},
     "output_type": "execute_result"
    }
   ],
   "source": [
    "x.count(1)"
   ]
  },
  {
   "cell_type": "code",
   "execution_count": 94,
   "id": "1c24c1e6",
   "metadata": {},
   "outputs": [
    {
     "data": {
      "text/plain": [
       "1"
      ]
     },
     "execution_count": 94,
     "metadata": {},
     "output_type": "execute_result"
    }
   ],
   "source": [
    "x.index(1)"
   ]
  },
  {
   "cell_type": "code",
   "execution_count": 96,
   "id": "48bb2e0a",
   "metadata": {},
   "outputs": [],
   "source": [
    "def add():\n",
    "    a=2\n",
    "    b=3\n",
    "    c=a+b\n",
    "    print(c)"
   ]
  },
  {
   "cell_type": "code",
   "execution_count": 97,
   "id": "4adc636b",
   "metadata": {},
   "outputs": [
    {
     "name": "stdout",
     "output_type": "stream",
     "text": [
      "5\n"
     ]
    }
   ],
   "source": [
    "add()"
   ]
  },
  {
   "cell_type": "code",
   "execution_count": 98,
   "id": "1e4dd440",
   "metadata": {},
   "outputs": [],
   "source": [
    "def add(a,b):\n",
    "    c=a+b\n",
    "    print(c)"
   ]
  },
  {
   "cell_type": "code",
   "execution_count": 99,
   "id": "ec633ced",
   "metadata": {},
   "outputs": [
    {
     "name": "stdout",
     "output_type": "stream",
     "text": [
      "3\n"
     ]
    }
   ],
   "source": [
    "add(2,1)"
   ]
  },
  {
   "cell_type": "code",
   "execution_count": 100,
   "id": "0fc88c6a",
   "metadata": {},
   "outputs": [],
   "source": [
    "def add(a,b):\n",
    "    return (a+b)"
   ]
  },
  {
   "cell_type": "code",
   "execution_count": 101,
   "id": "819404f1",
   "metadata": {},
   "outputs": [
    {
     "data": {
      "text/plain": [
       "6"
      ]
     },
     "execution_count": 101,
     "metadata": {},
     "output_type": "execute_result"
    }
   ],
   "source": [
    "add(2,4)"
   ]
  },
  {
   "cell_type": "code",
   "execution_count": 102,
   "id": "251635d5",
   "metadata": {},
   "outputs": [],
   "source": [
    "def add():\n",
    "    a=2\n",
    "    b=4\n",
    "    return a+b"
   ]
  },
  {
   "cell_type": "code",
   "execution_count": 103,
   "id": "5e5bd146",
   "metadata": {},
   "outputs": [
    {
     "name": "stdout",
     "output_type": "stream",
     "text": [
      "6\n"
     ]
    }
   ],
   "source": [
    "print(add())"
   ]
  },
  {
   "cell_type": "code",
   "execution_count": 107,
   "id": "77d1f30d",
   "metadata": {},
   "outputs": [],
   "source": [
    "my_list =['apple','jnkit']"
   ]
  },
  {
   "cell_type": "code",
   "execution_count": 111,
   "id": "e2af196e",
   "metadata": {},
   "outputs": [
    {
     "name": "stdout",
     "output_type": "stream",
     "text": [
      "ap\n",
      "jn\n"
     ]
    }
   ],
   "source": [
    "for i in my_list:\n",
    "    print(i[0:2])"
   ]
  },
  {
   "cell_type": "code",
   "execution_count": 113,
   "id": "b79da8d2",
   "metadata": {},
   "outputs": [
    {
     "name": "stdout",
     "output_type": "stream",
     "text": [
      "0\n",
      "1\n",
      "2\n",
      "3\n",
      "4\n"
     ]
    }
   ],
   "source": [
    "for i in range(5):\n",
    "    print(i)"
   ]
  },
  {
   "cell_type": "code",
   "execution_count": 124,
   "id": "f70d9190",
   "metadata": {},
   "outputs": [
    {
     "name": "stdout",
     "output_type": "stream",
     "text": [
      "1\n",
      "2\n",
      "3\n",
      "4\n",
      "5\n",
      "6\n",
      "7\n",
      "8\n",
      "9\n",
      "10\n"
     ]
    }
   ],
   "source": [
    "a=1\n",
    "while(a<=10):\n",
    "    print(a)\n",
    "    a=a+1"
   ]
  },
  {
   "cell_type": "code",
   "execution_count": 126,
   "id": "f359d009",
   "metadata": {},
   "outputs": [
    {
     "name": "stdout",
     "output_type": "stream",
     "text": [
      "1\n",
      "3\n",
      "5\n",
      "7\n",
      "9\n"
     ]
    }
   ],
   "source": [
    "for i in range(1,10,2):\n",
    "    print(i)"
   ]
  },
  {
   "cell_type": "code",
   "execution_count": 1,
   "id": "946bed33",
   "metadata": {},
   "outputs": [
    {
     "name": "stdout",
     "output_type": "stream",
     "text": [
      "10\n"
     ]
    }
   ],
   "source": [
    "a=[1,2,3,4]\n",
    "print(sum(a))"
   ]
  },
  {
   "cell_type": "code",
   "execution_count": 2,
   "id": "383d4277",
   "metadata": {},
   "outputs": [],
   "source": [
    "t = (1,2,0,0,9,98,0,3)"
   ]
  },
  {
   "cell_type": "code",
   "execution_count": 5,
   "id": "7f591404",
   "metadata": {},
   "outputs": [
    {
     "data": {
      "text/plain": [
       "3"
      ]
     },
     "execution_count": 5,
     "metadata": {},
     "output_type": "execute_result"
    }
   ],
   "source": [
    "t.count(0)"
   ]
  },
  {
   "cell_type": "code",
   "execution_count": 6,
   "id": "09116bb2",
   "metadata": {},
   "outputs": [],
   "source": [
    "x =[22,45,9,0,-1,21]"
   ]
  },
  {
   "cell_type": "code",
   "execution_count": 8,
   "id": "f0a0d1bf",
   "metadata": {},
   "outputs": [],
   "source": [
    "x.sort()"
   ]
  },
  {
   "cell_type": "code",
   "execution_count": 9,
   "id": "d5ebc278",
   "metadata": {},
   "outputs": [
    {
     "name": "stdout",
     "output_type": "stream",
     "text": [
      "[-1, 0, 9, 21, 22, 45]\n"
     ]
    }
   ],
   "source": [
    "print(x)"
   ]
  },
  {
   "cell_type": "code",
   "execution_count": 10,
   "id": "c1fd56d2",
   "metadata": {},
   "outputs": [],
   "source": [
    "x.reverse()"
   ]
  },
  {
   "cell_type": "code",
   "execution_count": 11,
   "id": "a0f57ce5",
   "metadata": {},
   "outputs": [
    {
     "name": "stdout",
     "output_type": "stream",
     "text": [
      "[45, 22, 21, 9, 0, -1]\n"
     ]
    }
   ],
   "source": [
    "print(x)"
   ]
  },
  {
   "cell_type": "code",
   "execution_count": 13,
   "id": "e64ab630",
   "metadata": {},
   "outputs": [],
   "source": [
    "x.append(213)"
   ]
  },
  {
   "cell_type": "code",
   "execution_count": 14,
   "id": "e4649fa8",
   "metadata": {},
   "outputs": [
    {
     "name": "stdout",
     "output_type": "stream",
     "text": [
      "[45, 22, 21, 9, 0, -1, 213]\n"
     ]
    }
   ],
   "source": [
    "print(x)"
   ]
  },
  {
   "cell_type": "code",
   "execution_count": 15,
   "id": "0d454844",
   "metadata": {},
   "outputs": [],
   "source": [
    "x.insert(0,1)"
   ]
  },
  {
   "cell_type": "code",
   "execution_count": 16,
   "id": "c0586e33",
   "metadata": {},
   "outputs": [
    {
     "data": {
      "text/plain": [
       "[1, 45, 22, 21, 9, 0, -1, 213]"
      ]
     },
     "execution_count": 16,
     "metadata": {},
     "output_type": "execute_result"
    }
   ],
   "source": [
    "x"
   ]
  },
  {
   "cell_type": "code",
   "execution_count": 18,
   "id": "476da5bd",
   "metadata": {},
   "outputs": [
    {
     "data": {
      "text/plain": [
       "1"
      ]
     },
     "execution_count": 18,
     "metadata": {},
     "output_type": "execute_result"
    }
   ],
   "source": [
    "x.pop(0)"
   ]
  },
  {
   "cell_type": "code",
   "execution_count": 19,
   "id": "7ddbac88",
   "metadata": {},
   "outputs": [
    {
     "data": {
      "text/plain": [
       "[45, 22, 21, 9, 0, -1, 213]"
      ]
     },
     "execution_count": 19,
     "metadata": {},
     "output_type": "execute_result"
    }
   ],
   "source": [
    "x"
   ]
  },
  {
   "cell_type": "code",
   "execution_count": 22,
   "id": "11dc9f31",
   "metadata": {},
   "outputs": [],
   "source": [
    "x.remove(9)"
   ]
  },
  {
   "cell_type": "code",
   "execution_count": 23,
   "id": "641e8a90",
   "metadata": {},
   "outputs": [
    {
     "data": {
      "text/plain": [
       "[45, 22, 21, 0, -1, 213]"
      ]
     },
     "execution_count": 23,
     "metadata": {},
     "output_type": "execute_result"
    }
   ],
   "source": [
    "x"
   ]
  },
  {
   "cell_type": "code",
   "execution_count": 24,
   "id": "258794e4",
   "metadata": {},
   "outputs": [],
   "source": [
    "t = (1,3,5,2,9)"
   ]
  },
  {
   "cell_type": "code",
   "execution_count": 27,
   "id": "964096a7",
   "metadata": {},
   "outputs": [
    {
     "data": {
      "text/plain": [
       "2"
      ]
     },
     "execution_count": 27,
     "metadata": {},
     "output_type": "execute_result"
    }
   ],
   "source": [
    "t.index(5)"
   ]
  },
  {
   "cell_type": "code",
   "execution_count": 28,
   "id": "5b97ccf8",
   "metadata": {},
   "outputs": [],
   "source": [
    "t = (0,1,0,9,8,9,1)"
   ]
  },
  {
   "cell_type": "code",
   "execution_count": 29,
   "id": "9cf51156",
   "metadata": {},
   "outputs": [
    {
     "data": {
      "text/plain": [
       "2"
      ]
     },
     "execution_count": 29,
     "metadata": {},
     "output_type": "execute_result"
    }
   ],
   "source": [
    "t.count(1)"
   ]
  },
  {
   "cell_type": "code",
   "execution_count": 89,
   "id": "cc3e6cdb",
   "metadata": {},
   "outputs": [
    {
     "ename": "SyntaxError",
     "evalue": "invalid syntax (<ipython-input-89-1fa9264357d4>, line 4)",
     "output_type": "error",
     "traceback": [
      "\u001b[1;36m  File \u001b[1;32m\"<ipython-input-89-1fa9264357d4>\"\u001b[1;36m, line \u001b[1;32m4\u001b[0m\n\u001b[1;33m    'fname':'ankit',\u001b[0m\n\u001b[1;37m    ^\u001b[0m\n\u001b[1;31mSyntaxError\u001b[0m\u001b[1;31m:\u001b[0m invalid syntax\n"
     ]
    }
   ],
   "source": [
    "#dict \n",
    "myDict={\n",
    "    'fname':'ankit',\n",
    "    'hobby':'Dance',\n",
    "    'marks':[1,2,3],\n",
    "    'dusraDict':{\n",
    "        'lname':'raj'\n",
    "    },\n",
    "    1:'2'\n",
    "}"
   ]
  },
  {
   "cell_type": "code",
   "execution_count": 73,
   "id": "bd4070a6",
   "metadata": {},
   "outputs": [
    {
     "name": "stdout",
     "output_type": "stream",
     "text": [
      "ankit\n"
     ]
    }
   ],
   "source": [
    "print(myDict['fname'])"
   ]
  },
  {
   "cell_type": "code",
   "execution_count": 74,
   "id": "37abed98",
   "metadata": {},
   "outputs": [
    {
     "data": {
      "text/plain": [
       "[1, 2, 3]"
      ]
     },
     "execution_count": 74,
     "metadata": {},
     "output_type": "execute_result"
    }
   ],
   "source": [
    "myDict['marks']"
   ]
  },
  {
   "cell_type": "code",
   "execution_count": 75,
   "id": "09e8ab7d",
   "metadata": {},
   "outputs": [
    {
     "data": {
      "text/plain": [
       "{'lname': 'raj'}"
      ]
     },
     "execution_count": 75,
     "metadata": {},
     "output_type": "execute_result"
    }
   ],
   "source": [
    "myDict['dusraDict']"
   ]
  },
  {
   "cell_type": "code",
   "execution_count": 76,
   "id": "e3c3fa4d",
   "metadata": {},
   "outputs": [
    {
     "data": {
      "text/plain": [
       "'raj'"
      ]
     },
     "execution_count": 76,
     "metadata": {},
     "output_type": "execute_result"
    }
   ],
   "source": [
    "myDict['dusraDict']['lname']"
   ]
  },
  {
   "cell_type": "code",
   "execution_count": 77,
   "id": "95d6983b",
   "metadata": {},
   "outputs": [],
   "source": [
    "myDict['marks']=[1,2,30]"
   ]
  },
  {
   "cell_type": "code",
   "execution_count": 78,
   "id": "5e7451a3",
   "metadata": {},
   "outputs": [
    {
     "data": {
      "text/plain": [
       "[1, 2, 30]"
      ]
     },
     "execution_count": 78,
     "metadata": {},
     "output_type": "execute_result"
    }
   ],
   "source": [
    "myDict['marks']"
   ]
  },
  {
   "cell_type": "code",
   "execution_count": 79,
   "id": "819dcac0",
   "metadata": {},
   "outputs": [],
   "source": [
    "myDict['fname']=['Bahuballi']"
   ]
  },
  {
   "cell_type": "code",
   "execution_count": 80,
   "id": "4a51323c",
   "metadata": {},
   "outputs": [
    {
     "data": {
      "text/plain": [
       "['Bahuballi']"
      ]
     },
     "execution_count": 80,
     "metadata": {},
     "output_type": "execute_result"
    }
   ],
   "source": [
    "myDict['fname']"
   ]
  },
  {
   "cell_type": "code",
   "execution_count": 81,
   "id": "9b5fc136",
   "metadata": {},
   "outputs": [
    {
     "data": {
      "text/plain": [
       "dict_items([('fname', ['Bahuballi']), ('hobby', 'Dance'), ('marks', [1, 2, 30]), ('dusraDict', {'lname': 'raj'}), (1, 2)])"
      ]
     },
     "execution_count": 81,
     "metadata": {},
     "output_type": "execute_result"
    }
   ],
   "source": [
    "myDict.items()"
   ]
  },
  {
   "cell_type": "code",
   "execution_count": 96,
   "id": "75ddbb25",
   "metadata": {},
   "outputs": [
    {
     "data": {
      "text/plain": [
       "dict_keys(['fname', 'hobby', 'marks', 'dusraDict', 1])"
      ]
     },
     "execution_count": 96,
     "metadata": {},
     "output_type": "execute_result"
    }
   ],
   "source": [
    "myDict.keys()"
   ]
  },
  {
   "cell_type": "code",
   "execution_count": 105,
   "id": "abb6a34d",
   "metadata": {},
   "outputs": [
    {
     "name": "stdout",
     "output_type": "stream",
     "text": [
      "{'fname': 'aman', 'hobby': 'Dance', 'marks': [1, 2, 3], 'dusraDict': {'lname': 'raj'}, 1: '2', 'add': 'Delhi'}\n"
     ]
    }
   ],
   "source": [
    "updateDict={\n",
    "    'add':'Delhi',\n",
    "    'fname':'aman'\n",
    "}\n",
    "myDict.update(updateDict)\n",
    "print(myDict)"
   ]
  },
  {
   "cell_type": "code",
   "execution_count": 88,
   "id": "df6ee6fc",
   "metadata": {},
   "outputs": [
    {
     "data": {
      "text/plain": [
       "'2'"
      ]
     },
     "execution_count": 88,
     "metadata": {},
     "output_type": "execute_result"
    }
   ],
   "source": [
    "myDict[1]"
   ]
  },
  {
   "cell_type": "code",
   "execution_count": 91,
   "id": "cc61ee85",
   "metadata": {},
   "outputs": [],
   "source": [
    "dict ={\n",
    "    'name':'Ram',\n",
    "    1:3\n",
    "}"
   ]
  },
  {
   "cell_type": "code",
   "execution_count": 92,
   "id": "a9c2b1fe",
   "metadata": {},
   "outputs": [
    {
     "data": {
      "text/plain": [
       "{'name': 'Ram', 1: 3}"
      ]
     },
     "execution_count": 92,
     "metadata": {},
     "output_type": "execute_result"
    }
   ],
   "source": [
    "dict"
   ]
  },
  {
   "cell_type": "code",
   "execution_count": 93,
   "id": "b96fe821",
   "metadata": {},
   "outputs": [
    {
     "data": {
      "text/plain": [
       "3"
      ]
     },
     "execution_count": 93,
     "metadata": {},
     "output_type": "execute_result"
    }
   ],
   "source": [
    "dict[1]"
   ]
  },
  {
   "cell_type": "code",
   "execution_count": 98,
   "id": "86195d26",
   "metadata": {},
   "outputs": [
    {
     "data": {
      "text/plain": [
       "dict_values(['ankit', 'Dance', [1, 2, 3], {'lname': 'raj'}, '2'])"
      ]
     },
     "execution_count": 98,
     "metadata": {},
     "output_type": "execute_result"
    }
   ],
   "source": [
    "myDict.values()"
   ]
  },
  {
   "cell_type": "code",
   "execution_count": 101,
   "id": "14a83ff2",
   "metadata": {},
   "outputs": [
    {
     "data": {
      "text/plain": [
       "dict_items([('fname', 'ankit'), ('hobby', 'Dance'), ('marks', [1, 2, 3]), ('dusraDict', {'lname': 'raj'}), (1, '2')])"
      ]
     },
     "execution_count": 101,
     "metadata": {},
     "output_type": "execute_result"
    }
   ],
   "source": [
    "myDict.items()"
   ]
  },
  {
   "cell_type": "code",
   "execution_count": 111,
   "id": "c72e3b3b",
   "metadata": {},
   "outputs": [],
   "source": [
    "myDict.get('fname1')"
   ]
  },
  {
   "cell_type": "code",
   "execution_count": 112,
   "id": "8d83ab04",
   "metadata": {},
   "outputs": [
    {
     "data": {
      "text/plain": [
       "{'fname': 'aman',\n",
       " 'hobby': 'Dance',\n",
       " 'marks': [1, 2, 3],\n",
       " 'dusraDict': {'lname': 'raj'},\n",
       " 1: '2',\n",
       " 'add': 'Delhi'}"
      ]
     },
     "execution_count": 112,
     "metadata": {},
     "output_type": "execute_result"
    }
   ],
   "source": [
    "myDict"
   ]
  },
  {
   "cell_type": "code",
   "execution_count": 114,
   "id": "26a5a74c",
   "metadata": {},
   "outputs": [
    {
     "ename": "KeyError",
     "evalue": "'fname1'",
     "output_type": "error",
     "traceback": [
      "\u001b[1;31m---------------------------------------------------------------------------\u001b[0m",
      "\u001b[1;31mKeyError\u001b[0m                                  Traceback (most recent call last)",
      "\u001b[1;32m<ipython-input-114-c2dc92704539>\u001b[0m in \u001b[0;36m<module>\u001b[1;34m\u001b[0m\n\u001b[1;32m----> 1\u001b[1;33m \u001b[0mmyDict\u001b[0m\u001b[1;33m[\u001b[0m\u001b[1;34m'fname1'\u001b[0m\u001b[1;33m]\u001b[0m\u001b[1;33m\u001b[0m\u001b[1;33m\u001b[0m\u001b[0m\n\u001b[0m",
      "\u001b[1;31mKeyError\u001b[0m: 'fname1'"
     ]
    }
   ],
   "source": [
    "myDict['fname1']"
   ]
  },
  {
   "cell_type": "code",
   "execution_count": 115,
   "id": "a81c1ce6",
   "metadata": {},
   "outputs": [],
   "source": [
    "#Set\n",
    "a = {1,'asad'}"
   ]
  },
  {
   "cell_type": "code",
   "execution_count": 116,
   "id": "a26889b6",
   "metadata": {},
   "outputs": [
    {
     "data": {
      "text/plain": [
       "{1, 'asad'}"
      ]
     },
     "execution_count": 116,
     "metadata": {},
     "output_type": "execute_result"
    }
   ],
   "source": [
    "a"
   ]
  },
  {
   "cell_type": "code",
   "execution_count": 117,
   "id": "7a9feb3f",
   "metadata": {},
   "outputs": [
    {
     "data": {
      "text/plain": [
       "set"
      ]
     },
     "execution_count": 117,
     "metadata": {},
     "output_type": "execute_result"
    }
   ],
   "source": [
    "type(a)"
   ]
  },
  {
   "cell_type": "code",
   "execution_count": 118,
   "id": "4b93768a",
   "metadata": {},
   "outputs": [],
   "source": [
    "a={}"
   ]
  },
  {
   "cell_type": "code",
   "execution_count": 119,
   "id": "cc50bae7",
   "metadata": {},
   "outputs": [
    {
     "data": {
      "text/plain": [
       "{}"
      ]
     },
     "execution_count": 119,
     "metadata": {},
     "output_type": "execute_result"
    }
   ],
   "source": [
    "a"
   ]
  },
  {
   "cell_type": "code",
   "execution_count": 120,
   "id": "514f1ec6",
   "metadata": {},
   "outputs": [
    {
     "data": {
      "text/plain": [
       "dict"
      ]
     },
     "execution_count": 120,
     "metadata": {},
     "output_type": "execute_result"
    }
   ],
   "source": [
    "type(a)"
   ]
  },
  {
   "cell_type": "code",
   "execution_count": 121,
   "id": "dbb19c67",
   "metadata": {},
   "outputs": [],
   "source": [
    "x = set()"
   ]
  },
  {
   "cell_type": "code",
   "execution_count": 122,
   "id": "3b9b5a3a",
   "metadata": {},
   "outputs": [
    {
     "data": {
      "text/plain": [
       "set()"
      ]
     },
     "execution_count": 122,
     "metadata": {},
     "output_type": "execute_result"
    }
   ],
   "source": [
    "x"
   ]
  },
  {
   "cell_type": "code",
   "execution_count": 123,
   "id": "5a32350c",
   "metadata": {},
   "outputs": [
    {
     "data": {
      "text/plain": [
       "set"
      ]
     },
     "execution_count": 123,
     "metadata": {},
     "output_type": "execute_result"
    }
   ],
   "source": [
    "type(x)"
   ]
  },
  {
   "cell_type": "code",
   "execution_count": null,
   "id": "d4cd70b5",
   "metadata": {},
   "outputs": [],
   "source": []
  }
 ],
 "metadata": {
  "kernelspec": {
   "display_name": "Python 3",
   "language": "python",
   "name": "python3"
  },
  "language_info": {
   "codemirror_mode": {
    "name": "ipython",
    "version": 3
   },
   "file_extension": ".py",
   "mimetype": "text/x-python",
   "name": "python",
   "nbconvert_exporter": "python",
   "pygments_lexer": "ipython3",
   "version": "3.8.8"
  }
 },
 "nbformat": 4,
 "nbformat_minor": 5
}
