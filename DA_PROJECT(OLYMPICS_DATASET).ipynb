{
 "cells": [
  {
   "cell_type": "code",
   "execution_count": 1,
   "id": "8a8dea1e",
   "metadata": {},
   "outputs": [],
   "source": [
    "#import lib\n",
    "import numpy as np\n",
    "import pandas as pd\n",
    "import matplotlib.pyplot as plt\n",
    "%matplotlib inline\n",
    "import seaborn as sns"
   ]
  },
  {
   "cell_type": "code",
   "execution_count": 3,
   "id": "85087179",
   "metadata": {},
   "outputs": [
    {
     "name": "stderr",
     "output_type": "stream",
     "text": [
      "C:\\Users\\ddugky\\anaconda3\\lib\\site-packages\\openpyxl\\styles\\stylesheet.py:226: UserWarning: Workbook contains no default style, apply openpyxl's default\n",
      "  warn(\"Workbook contains no default style, apply openpyxl's default\")\n"
     ]
    }
   ],
   "source": [
    "#import file(read file)\n",
    "df = pd.read_excel(r\"C:\\Users\\ddugky\\Downloads\\Olymic_data\\Coaches.xlsx\")"
   ]
  },
  {
   "cell_type": "code",
   "execution_count": 4,
   "id": "7aa5fada",
   "metadata": {},
   "outputs": [
    {
     "data": {
      "text/html": [
       "<div>\n",
       "<style scoped>\n",
       "    .dataframe tbody tr th:only-of-type {\n",
       "        vertical-align: middle;\n",
       "    }\n",
       "\n",
       "    .dataframe tbody tr th {\n",
       "        vertical-align: top;\n",
       "    }\n",
       "\n",
       "    .dataframe thead th {\n",
       "        text-align: right;\n",
       "    }\n",
       "</style>\n",
       "<table border=\"1\" class=\"dataframe\">\n",
       "  <thead>\n",
       "    <tr style=\"text-align: right;\">\n",
       "      <th></th>\n",
       "      <th>Name</th>\n",
       "      <th>NOC</th>\n",
       "      <th>Discipline</th>\n",
       "      <th>Event</th>\n",
       "    </tr>\n",
       "  </thead>\n",
       "  <tbody>\n",
       "    <tr>\n",
       "      <th>0</th>\n",
       "      <td>ABDELMAGID Wael</td>\n",
       "      <td>Egypt</td>\n",
       "      <td>Football</td>\n",
       "      <td>NaN</td>\n",
       "    </tr>\n",
       "    <tr>\n",
       "      <th>1</th>\n",
       "      <td>ABE Junya</td>\n",
       "      <td>Japan</td>\n",
       "      <td>Volleyball</td>\n",
       "      <td>NaN</td>\n",
       "    </tr>\n",
       "    <tr>\n",
       "      <th>2</th>\n",
       "      <td>ABE Katsuhiko</td>\n",
       "      <td>Japan</td>\n",
       "      <td>Basketball</td>\n",
       "      <td>NaN</td>\n",
       "    </tr>\n",
       "    <tr>\n",
       "      <th>3</th>\n",
       "      <td>ADAMA Cherif</td>\n",
       "      <td>Côte d'Ivoire</td>\n",
       "      <td>Football</td>\n",
       "      <td>NaN</td>\n",
       "    </tr>\n",
       "    <tr>\n",
       "      <th>4</th>\n",
       "      <td>AGEBA Yuya</td>\n",
       "      <td>Japan</td>\n",
       "      <td>Volleyball</td>\n",
       "      <td>NaN</td>\n",
       "    </tr>\n",
       "  </tbody>\n",
       "</table>\n",
       "</div>"
      ],
      "text/plain": [
       "              Name            NOC  Discipline Event\n",
       "0  ABDELMAGID Wael          Egypt    Football   NaN\n",
       "1        ABE Junya          Japan  Volleyball   NaN\n",
       "2    ABE Katsuhiko          Japan  Basketball   NaN\n",
       "3     ADAMA Cherif  Côte d'Ivoire    Football   NaN\n",
       "4       AGEBA Yuya          Japan  Volleyball   NaN"
      ]
     },
     "execution_count": 4,
     "metadata": {},
     "output_type": "execute_result"
    }
   ],
   "source": [
    "df.head()"
   ]
  },
  {
   "cell_type": "code",
   "execution_count": 5,
   "id": "5e110b86",
   "metadata": {},
   "outputs": [
    {
     "data": {
      "text/html": [
       "<div>\n",
       "<style scoped>\n",
       "    .dataframe tbody tr th:only-of-type {\n",
       "        vertical-align: middle;\n",
       "    }\n",
       "\n",
       "    .dataframe tbody tr th {\n",
       "        vertical-align: top;\n",
       "    }\n",
       "\n",
       "    .dataframe thead th {\n",
       "        text-align: right;\n",
       "    }\n",
       "</style>\n",
       "<table border=\"1\" class=\"dataframe\">\n",
       "  <thead>\n",
       "    <tr style=\"text-align: right;\">\n",
       "      <th></th>\n",
       "      <th>Name</th>\n",
       "      <th>NOC</th>\n",
       "      <th>Discipline</th>\n",
       "      <th>Event</th>\n",
       "    </tr>\n",
       "  </thead>\n",
       "  <tbody>\n",
       "    <tr>\n",
       "      <th>0</th>\n",
       "      <td>ABDELMAGID Wael</td>\n",
       "      <td>Egypt</td>\n",
       "      <td>Football</td>\n",
       "      <td>NaN</td>\n",
       "    </tr>\n",
       "    <tr>\n",
       "      <th>1</th>\n",
       "      <td>ABE Junya</td>\n",
       "      <td>Japan</td>\n",
       "      <td>Volleyball</td>\n",
       "      <td>NaN</td>\n",
       "    </tr>\n",
       "    <tr>\n",
       "      <th>2</th>\n",
       "      <td>ABE Katsuhiko</td>\n",
       "      <td>Japan</td>\n",
       "      <td>Basketball</td>\n",
       "      <td>NaN</td>\n",
       "    </tr>\n",
       "    <tr>\n",
       "      <th>3</th>\n",
       "      <td>ADAMA Cherif</td>\n",
       "      <td>Côte d'Ivoire</td>\n",
       "      <td>Football</td>\n",
       "      <td>NaN</td>\n",
       "    </tr>\n",
       "    <tr>\n",
       "      <th>4</th>\n",
       "      <td>AGEBA Yuya</td>\n",
       "      <td>Japan</td>\n",
       "      <td>Volleyball</td>\n",
       "      <td>NaN</td>\n",
       "    </tr>\n",
       "    <tr>\n",
       "      <th>...</th>\n",
       "      <td>...</td>\n",
       "      <td>...</td>\n",
       "      <td>...</td>\n",
       "      <td>...</td>\n",
       "    </tr>\n",
       "    <tr>\n",
       "      <th>389</th>\n",
       "      <td>ZAMORA PEDREIRA Javier</td>\n",
       "      <td>Spain</td>\n",
       "      <td>Basketball</td>\n",
       "      <td>NaN</td>\n",
       "    </tr>\n",
       "    <tr>\n",
       "      <th>390</th>\n",
       "      <td>ZAMPIERI Francesca</td>\n",
       "      <td>Liechtenstein</td>\n",
       "      <td>Artistic Swimming</td>\n",
       "      <td>Duet</td>\n",
       "    </tr>\n",
       "    <tr>\n",
       "      <th>391</th>\n",
       "      <td>ZHANG Xiaohuan</td>\n",
       "      <td>People's Republic of China</td>\n",
       "      <td>Artistic Swimming</td>\n",
       "      <td>NaN</td>\n",
       "    </tr>\n",
       "    <tr>\n",
       "      <th>392</th>\n",
       "      <td>ZIJP Simon</td>\n",
       "      <td>Netherlands</td>\n",
       "      <td>Hockey</td>\n",
       "      <td>NaN</td>\n",
       "    </tr>\n",
       "    <tr>\n",
       "      <th>393</th>\n",
       "      <td>ZONDI Nkuliso</td>\n",
       "      <td>South Africa</td>\n",
       "      <td>Hockey</td>\n",
       "      <td>Women</td>\n",
       "    </tr>\n",
       "  </tbody>\n",
       "</table>\n",
       "<p>394 rows × 4 columns</p>\n",
       "</div>"
      ],
      "text/plain": [
       "                       Name                         NOC         Discipline  \\\n",
       "0           ABDELMAGID Wael                       Egypt           Football   \n",
       "1                 ABE Junya                       Japan         Volleyball   \n",
       "2             ABE Katsuhiko                       Japan         Basketball   \n",
       "3              ADAMA Cherif               Côte d'Ivoire           Football   \n",
       "4                AGEBA Yuya                       Japan         Volleyball   \n",
       "..                      ...                         ...                ...   \n",
       "389  ZAMORA PEDREIRA Javier                       Spain         Basketball   \n",
       "390      ZAMPIERI Francesca               Liechtenstein  Artistic Swimming   \n",
       "391          ZHANG Xiaohuan  People's Republic of China  Artistic Swimming   \n",
       "392              ZIJP Simon                 Netherlands             Hockey   \n",
       "393           ZONDI Nkuliso                South Africa             Hockey   \n",
       "\n",
       "     Event  \n",
       "0      NaN  \n",
       "1      NaN  \n",
       "2      NaN  \n",
       "3      NaN  \n",
       "4      NaN  \n",
       "..     ...  \n",
       "389    NaN  \n",
       "390   Duet  \n",
       "391    NaN  \n",
       "392    NaN  \n",
       "393  Women  \n",
       "\n",
       "[394 rows x 4 columns]"
      ]
     },
     "execution_count": 5,
     "metadata": {},
     "output_type": "execute_result"
    }
   ],
   "source": [
    "df"
   ]
  },
  {
   "cell_type": "code",
   "execution_count": 6,
   "id": "98b11fab",
   "metadata": {},
   "outputs": [
    {
     "data": {
      "text/html": [
       "<div>\n",
       "<style scoped>\n",
       "    .dataframe tbody tr th:only-of-type {\n",
       "        vertical-align: middle;\n",
       "    }\n",
       "\n",
       "    .dataframe tbody tr th {\n",
       "        vertical-align: top;\n",
       "    }\n",
       "\n",
       "    .dataframe thead th {\n",
       "        text-align: right;\n",
       "    }\n",
       "</style>\n",
       "<table border=\"1\" class=\"dataframe\">\n",
       "  <thead>\n",
       "    <tr style=\"text-align: right;\">\n",
       "      <th></th>\n",
       "      <th>Name</th>\n",
       "      <th>NOC</th>\n",
       "      <th>Discipline</th>\n",
       "      <th>Event</th>\n",
       "    </tr>\n",
       "  </thead>\n",
       "  <tbody>\n",
       "    <tr>\n",
       "      <th>389</th>\n",
       "      <td>ZAMORA PEDREIRA Javier</td>\n",
       "      <td>Spain</td>\n",
       "      <td>Basketball</td>\n",
       "      <td>NaN</td>\n",
       "    </tr>\n",
       "    <tr>\n",
       "      <th>390</th>\n",
       "      <td>ZAMPIERI Francesca</td>\n",
       "      <td>Liechtenstein</td>\n",
       "      <td>Artistic Swimming</td>\n",
       "      <td>Duet</td>\n",
       "    </tr>\n",
       "    <tr>\n",
       "      <th>391</th>\n",
       "      <td>ZHANG Xiaohuan</td>\n",
       "      <td>People's Republic of China</td>\n",
       "      <td>Artistic Swimming</td>\n",
       "      <td>NaN</td>\n",
       "    </tr>\n",
       "    <tr>\n",
       "      <th>392</th>\n",
       "      <td>ZIJP Simon</td>\n",
       "      <td>Netherlands</td>\n",
       "      <td>Hockey</td>\n",
       "      <td>NaN</td>\n",
       "    </tr>\n",
       "    <tr>\n",
       "      <th>393</th>\n",
       "      <td>ZONDI Nkuliso</td>\n",
       "      <td>South Africa</td>\n",
       "      <td>Hockey</td>\n",
       "      <td>Women</td>\n",
       "    </tr>\n",
       "  </tbody>\n",
       "</table>\n",
       "</div>"
      ],
      "text/plain": [
       "                       Name                         NOC         Discipline  \\\n",
       "389  ZAMORA PEDREIRA Javier                       Spain         Basketball   \n",
       "390      ZAMPIERI Francesca               Liechtenstein  Artistic Swimming   \n",
       "391          ZHANG Xiaohuan  People's Republic of China  Artistic Swimming   \n",
       "392              ZIJP Simon                 Netherlands             Hockey   \n",
       "393           ZONDI Nkuliso                South Africa             Hockey   \n",
       "\n",
       "     Event  \n",
       "389    NaN  \n",
       "390   Duet  \n",
       "391    NaN  \n",
       "392    NaN  \n",
       "393  Women  "
      ]
     },
     "execution_count": 6,
     "metadata": {},
     "output_type": "execute_result"
    }
   ],
   "source": [
    "df.tail()"
   ]
  },
  {
   "cell_type": "code",
   "execution_count": 7,
   "id": "c0c651d7",
   "metadata": {},
   "outputs": [
    {
     "name": "stdout",
     "output_type": "stream",
     "text": [
      "<class 'pandas.core.frame.DataFrame'>\n",
      "RangeIndex: 394 entries, 0 to 393\n",
      "Data columns (total 4 columns):\n",
      " #   Column      Non-Null Count  Dtype \n",
      "---  ------      --------------  ----- \n",
      " 0   Name        394 non-null    object\n",
      " 1   NOC         394 non-null    object\n",
      " 2   Discipline  394 non-null    object\n",
      " 3   Event       249 non-null    object\n",
      "dtypes: object(4)\n",
      "memory usage: 12.4+ KB\n"
     ]
    }
   ],
   "source": [
    "df.info()"
   ]
  },
  {
   "cell_type": "code",
   "execution_count": 8,
   "id": "48eacde4",
   "metadata": {},
   "outputs": [
    {
     "data": {
      "text/html": [
       "<div>\n",
       "<style scoped>\n",
       "    .dataframe tbody tr th:only-of-type {\n",
       "        vertical-align: middle;\n",
       "    }\n",
       "\n",
       "    .dataframe tbody tr th {\n",
       "        vertical-align: top;\n",
       "    }\n",
       "\n",
       "    .dataframe thead th {\n",
       "        text-align: right;\n",
       "    }\n",
       "</style>\n",
       "<table border=\"1\" class=\"dataframe\">\n",
       "  <thead>\n",
       "    <tr style=\"text-align: right;\">\n",
       "      <th></th>\n",
       "    </tr>\n",
       "  </thead>\n",
       "  <tbody>\n",
       "  </tbody>\n",
       "</table>\n",
       "</div>"
      ],
      "text/plain": [
       "Empty DataFrame\n",
       "Columns: []\n",
       "Index: []"
      ]
     },
     "execution_count": 8,
     "metadata": {},
     "output_type": "execute_result"
    }
   ],
   "source": [
    "df.corr()"
   ]
  },
  {
   "cell_type": "code",
   "execution_count": 9,
   "id": "f52086f7",
   "metadata": {},
   "outputs": [
    {
     "data": {
      "text/plain": [
       "Name            0\n",
       "NOC             0\n",
       "Discipline      0\n",
       "Event         145\n",
       "dtype: int64"
      ]
     },
     "execution_count": 9,
     "metadata": {},
     "output_type": "execute_result"
    }
   ],
   "source": [
    "df.isnull().sum()"
   ]
  },
  {
   "cell_type": "code",
   "execution_count": 10,
   "id": "64321bb7",
   "metadata": {},
   "outputs": [
    {
     "data": {
      "text/plain": [
       "<AxesSubplot:>"
      ]
     },
     "execution_count": 10,
     "metadata": {},
     "output_type": "execute_result"
    },
    {
     "data": {
      "image/png": "[encoded data removed]",
      "text/plain": [
       "<Figure size 432x288 with 2 Axes>"
      ]
     },
     "metadata": {
      "needs_background": "light"
     },
     "output_type": "display_data"
    }
   ],
   "source": [
    "#heatmap\n",
    "sns.heatmap(df.isnull())"
   ]
  },
  {
   "cell_type": "code",
   "execution_count": 11,
   "id": "8845e52e",
   "metadata": {},
   "outputs": [
    {
     "ename": "IndexError",
     "evalue": "Inconsistent shape between the condition and the input (got (4, 1) and (4,))",
     "output_type": "error",
     "traceback": [
      "\u001b[1;31m---------------------------------------------------------------------------\u001b[0m",
      "\u001b[1;31mIndexError\u001b[0m                                Traceback (most recent call last)",
      "\u001b[1;32m~\\AppData\\Local\\Temp/ipykernel_10300/2179496445.py\u001b[0m in \u001b[0;36m<module>\u001b[1;34m\u001b[0m\n\u001b[1;32m----> 1\u001b[1;33m \u001b[0msns\u001b[0m\u001b[1;33m.\u001b[0m\u001b[0mheatmap\u001b[0m\u001b[1;33m(\u001b[0m\u001b[0mdf\u001b[0m\u001b[1;33m.\u001b[0m\u001b[0misnull\u001b[0m\u001b[1;33m(\u001b[0m\u001b[1;33m)\u001b[0m\u001b[1;33m.\u001b[0m\u001b[0msum\u001b[0m\u001b[1;33m(\u001b[0m\u001b[1;33m)\u001b[0m\u001b[1;33m)\u001b[0m\u001b[1;33m\u001b[0m\u001b[1;33m\u001b[0m\u001b[0m\n\u001b[0m",
      "\u001b[1;32m~\\anaconda3\\lib\\site-packages\\seaborn\\_decorators.py\u001b[0m in \u001b[0;36minner_f\u001b[1;34m(*args, **kwargs)\u001b[0m\n\u001b[0;32m     44\u001b[0m             )\n\u001b[0;32m     45\u001b[0m         \u001b[0mkwargs\u001b[0m\u001b[1;33m.\u001b[0m\u001b[0mupdate\u001b[0m\u001b[1;33m(\u001b[0m\u001b[1;33m{\u001b[0m\u001b[0mk\u001b[0m\u001b[1;33m:\u001b[0m \u001b[0marg\u001b[0m \u001b[1;32mfor\u001b[0m \u001b[0mk\u001b[0m\u001b[1;33m,\u001b[0m \u001b[0marg\u001b[0m \u001b[1;32min\u001b[0m \u001b[0mzip\u001b[0m\u001b[1;33m(\u001b[0m\u001b[0msig\u001b[0m\u001b[1;33m.\u001b[0m\u001b[0mparameters\u001b[0m\u001b[1;33m,\u001b[0m \u001b[0margs\u001b[0m\u001b[1;33m)\u001b[0m\u001b[1;33m}\u001b[0m\u001b[1;33m)\u001b[0m\u001b[1;33m\u001b[0m\u001b[1;33m\u001b[0m\u001b[0m\n\u001b[1;32m---> 46\u001b[1;33m         \u001b[1;32mreturn\u001b[0m \u001b[0mf\u001b[0m\u001b[1;33m(\u001b[0m\u001b[1;33m**\u001b[0m\u001b[0mkwargs\u001b[0m\u001b[1;33m)\u001b[0m\u001b[1;33m\u001b[0m\u001b[1;33m\u001b[0m\u001b[0m\n\u001b[0m\u001b[0;32m     47\u001b[0m     \u001b[1;32mreturn\u001b[0m \u001b[0minner_f\u001b[0m\u001b[1;33m\u001b[0m\u001b[1;33m\u001b[0m\u001b[0m\n\u001b[0;32m     48\u001b[0m \u001b[1;33m\u001b[0m\u001b[0m\n",
      "\u001b[1;32m~\\anaconda3\\lib\\site-packages\\seaborn\\matrix.py\u001b[0m in \u001b[0;36mheatmap\u001b[1;34m(data, vmin, vmax, cmap, center, robust, annot, fmt, annot_kws, linewidths, linecolor, cbar, cbar_kws, cbar_ax, square, xticklabels, yticklabels, mask, ax, **kwargs)\u001b[0m\n\u001b[0;32m    538\u001b[0m     \"\"\"\n\u001b[0;32m    539\u001b[0m     \u001b[1;31m# Initialize the plotter object\u001b[0m\u001b[1;33m\u001b[0m\u001b[1;33m\u001b[0m\u001b[0m\n\u001b[1;32m--> 540\u001b[1;33m     plotter = _HeatMapper(data, vmin, vmax, cmap, center, robust, annot, fmt,\n\u001b[0m\u001b[0;32m    541\u001b[0m                           \u001b[0mannot_kws\u001b[0m\u001b[1;33m,\u001b[0m \u001b[0mcbar\u001b[0m\u001b[1;33m,\u001b[0m \u001b[0mcbar_kws\u001b[0m\u001b[1;33m,\u001b[0m \u001b[0mxticklabels\u001b[0m\u001b[1;33m,\u001b[0m\u001b[1;33m\u001b[0m\u001b[1;33m\u001b[0m\u001b[0m\n\u001b[0;32m    542\u001b[0m                           yticklabels, mask)\n",
      "\u001b[1;32m~\\anaconda3\\lib\\site-packages\\seaborn\\matrix.py\u001b[0m in \u001b[0;36m__init__\u001b[1;34m(self, data, vmin, vmax, cmap, center, robust, annot, fmt, annot_kws, cbar, cbar_kws, xticklabels, yticklabels, mask)\u001b[0m\n\u001b[0;32m    109\u001b[0m         \u001b[0mmask\u001b[0m \u001b[1;33m=\u001b[0m \u001b[0m_matrix_mask\u001b[0m\u001b[1;33m(\u001b[0m\u001b[0mdata\u001b[0m\u001b[1;33m,\u001b[0m \u001b[0mmask\u001b[0m\u001b[1;33m)\u001b[0m\u001b[1;33m\u001b[0m\u001b[1;33m\u001b[0m\u001b[0m\n\u001b[0;32m    110\u001b[0m \u001b[1;33m\u001b[0m\u001b[0m\n\u001b[1;32m--> 111\u001b[1;33m         \u001b[0mplot_data\u001b[0m \u001b[1;33m=\u001b[0m \u001b[0mnp\u001b[0m\u001b[1;33m.\u001b[0m\u001b[0mma\u001b[0m\u001b[1;33m.\u001b[0m\u001b[0mmasked_where\u001b[0m\u001b[1;33m(\u001b[0m\u001b[0mnp\u001b[0m\u001b[1;33m.\u001b[0m\u001b[0masarray\u001b[0m\u001b[1;33m(\u001b[0m\u001b[0mmask\u001b[0m\u001b[1;33m)\u001b[0m\u001b[1;33m,\u001b[0m \u001b[0mplot_data\u001b[0m\u001b[1;33m)\u001b[0m\u001b[1;33m\u001b[0m\u001b[1;33m\u001b[0m\u001b[0m\n\u001b[0m\u001b[0;32m    112\u001b[0m \u001b[1;33m\u001b[0m\u001b[0m\n\u001b[0;32m    113\u001b[0m         \u001b[1;31m# Get good names for the rows and columns\u001b[0m\u001b[1;33m\u001b[0m\u001b[1;33m\u001b[0m\u001b[0m\n",
      "\u001b[1;32m~\\anaconda3\\lib\\site-packages\\numpy\\ma\\core.py\u001b[0m in \u001b[0;36mmasked_where\u001b[1;34m(condition, a, copy)\u001b[0m\n\u001b[0;32m   1927\u001b[0m     \u001b[1;33m(\u001b[0m\u001b[0mcshape\u001b[0m\u001b[1;33m,\u001b[0m \u001b[0mashape\u001b[0m\u001b[1;33m)\u001b[0m \u001b[1;33m=\u001b[0m \u001b[1;33m(\u001b[0m\u001b[0mcond\u001b[0m\u001b[1;33m.\u001b[0m\u001b[0mshape\u001b[0m\u001b[1;33m,\u001b[0m \u001b[0ma\u001b[0m\u001b[1;33m.\u001b[0m\u001b[0mshape\u001b[0m\u001b[1;33m)\u001b[0m\u001b[1;33m\u001b[0m\u001b[1;33m\u001b[0m\u001b[0m\n\u001b[0;32m   1928\u001b[0m     \u001b[1;32mif\u001b[0m \u001b[0mcshape\u001b[0m \u001b[1;32mand\u001b[0m \u001b[0mcshape\u001b[0m \u001b[1;33m!=\u001b[0m \u001b[0mashape\u001b[0m\u001b[1;33m:\u001b[0m\u001b[1;33m\u001b[0m\u001b[1;33m\u001b[0m\u001b[0m\n\u001b[1;32m-> 1929\u001b[1;33m         raise IndexError(\"Inconsistent shape between the condition and the input\"\n\u001b[0m\u001b[0;32m   1930\u001b[0m                          \" (got %s and %s)\" % (cshape, ashape))\n\u001b[0;32m   1931\u001b[0m     \u001b[1;32mif\u001b[0m \u001b[0mhasattr\u001b[0m\u001b[1;33m(\u001b[0m\u001b[0ma\u001b[0m\u001b[1;33m,\u001b[0m \u001b[1;34m'_mask'\u001b[0m\u001b[1;33m)\u001b[0m\u001b[1;33m:\u001b[0m\u001b[1;33m\u001b[0m\u001b[1;33m\u001b[0m\u001b[0m\n",
      "\u001b[1;31mIndexError\u001b[0m: Inconsistent shape between the condition and the input (got (4, 1) and (4,))"
     ]
    }
   ],
   "source": [
    "sns.heatmap(df.isnull().sum())"
   ]
  },
  {
   "cell_type": "code",
   "execution_count": 12,
   "id": "f99fda66",
   "metadata": {},
   "outputs": [
    {
     "data": {
      "text/plain": [
       "(394, 4)"
      ]
     },
     "execution_count": 12,
     "metadata": {},
     "output_type": "execute_result"
    }
   ],
   "source": [
    "df.shape"
   ]
  },
  {
   "cell_type": "code",
   "execution_count": 13,
   "id": "da38b6ed",
   "metadata": {},
   "outputs": [
    {
     "data": {
      "text/plain": [
       "Index(['Name', 'NOC', 'Discipline', 'Event'], dtype='object')"
      ]
     },
     "execution_count": 13,
     "metadata": {},
     "output_type": "execute_result"
    }
   ],
   "source": [
    "df.columns"
   ]
  },
  {
   "cell_type": "code",
   "execution_count": 14,
   "id": "8c25cea4",
   "metadata": {},
   "outputs": [],
   "source": [
    "#percentage of null values\n",
    "per_of_null_values = df.isnull().sum()/df.shape[0]*100"
   ]
  },
  {
   "cell_type": "code",
   "execution_count": 15,
   "id": "a5a2c139",
   "metadata": {},
   "outputs": [
    {
     "data": {
      "text/plain": [
       "Name           0.00000\n",
       "NOC            0.00000\n",
       "Discipline     0.00000\n",
       "Event         36.80203\n",
       "dtype: float64"
      ]
     },
     "execution_count": 15,
     "metadata": {},
     "output_type": "execute_result"
    }
   ],
   "source": [
    "per_of_null_values"
   ]
  },
  {
   "cell_type": "code",
   "execution_count": 16,
   "id": "49b4eedc",
   "metadata": {},
   "outputs": [
    {
     "data": {
      "text/plain": [
       "0        NaN\n",
       "1        NaN\n",
       "2        NaN\n",
       "3        NaN\n",
       "4        NaN\n",
       "       ...  \n",
       "389      NaN\n",
       "390     Duet\n",
       "391      NaN\n",
       "392      NaN\n",
       "393    Women\n",
       "Name: Event, Length: 394, dtype: object"
      ]
     },
     "execution_count": 16,
     "metadata": {},
     "output_type": "execute_result"
    }
   ],
   "source": [
    "#preprocessing/cleaning\n",
    "df['Event']"
   ]
  },
  {
   "cell_type": "code",
   "execution_count": 17,
   "id": "16d50ae8",
   "metadata": {},
   "outputs": [
    {
     "data": {
      "text/plain": [
       "array([nan, 'Men', 'Softball', 'Women', 'Duet', 'Team', 'Baseball'],\n",
       "      dtype=object)"
      ]
     },
     "execution_count": 17,
     "metadata": {},
     "output_type": "execute_result"
    }
   ],
   "source": [
    "df['Event'].unique()"
   ]
  },
  {
   "cell_type": "code",
   "execution_count": 33,
   "id": "951f4975",
   "metadata": {},
   "outputs": [
    {
     "data": {
      "text/plain": [
       "Men         239\n",
       "Women        88\n",
       "Duet         27\n",
       "Softball     20\n",
       "Team         14\n",
       "Baseball      6\n",
       "Name: Event, dtype: int64"
      ]
     },
     "execution_count": 33,
     "metadata": {},
     "output_type": "execute_result"
    }
   ],
   "source": [
    "df['Event'].value_counts()"
   ]
  },
  {
   "cell_type": "code",
   "execution_count": 19,
   "id": "7aa2e928",
   "metadata": {},
   "outputs": [],
   "source": [
    "mode_of_event = df['Event'].mode()"
   ]
  },
  {
   "cell_type": "code",
   "execution_count": 20,
   "id": "47a4c96f",
   "metadata": {},
   "outputs": [
    {
     "data": {
      "text/plain": [
       "0    Men\n",
       "dtype: object"
      ]
     },
     "execution_count": 20,
     "metadata": {},
     "output_type": "execute_result"
    }
   ],
   "source": [
    "mode_of_event"
   ]
  },
  {
   "cell_type": "code",
   "execution_count": 23,
   "id": "01f64c38",
   "metadata": {},
   "outputs": [
    {
     "data": {
      "text/plain": [
       "array(['Men'], dtype=object)"
      ]
     },
     "execution_count": 23,
     "metadata": {},
     "output_type": "execute_result"
    }
   ],
   "source": [
    "mode_of_event.values"
   ]
  },
  {
   "cell_type": "code",
   "execution_count": 27,
   "id": "3ca7e8f3",
   "metadata": {},
   "outputs": [],
   "source": [
    "event_fill = df.fillna(value =mode_of_event.values[0],inplace=True)"
   ]
  },
  {
   "cell_type": "code",
   "execution_count": 28,
   "id": "af767f1b",
   "metadata": {},
   "outputs": [],
   "source": [
    "event_fill"
   ]
  },
  {
   "cell_type": "code",
   "execution_count": 29,
   "id": "83a23654",
   "metadata": {},
   "outputs": [
    {
     "data": {
      "text/plain": [
       "Name          0\n",
       "NOC           0\n",
       "Discipline    0\n",
       "Event         0\n",
       "dtype: int64"
      ]
     },
     "execution_count": 29,
     "metadata": {},
     "output_type": "execute_result"
    }
   ],
   "source": [
    "df.isnull().sum()"
   ]
  },
  {
   "cell_type": "code",
   "execution_count": 31,
   "id": "8b1ccfff",
   "metadata": {},
   "outputs": [
    {
     "data": {
      "text/plain": [
       "Name          0\n",
       "NOC           0\n",
       "Discipline    0\n",
       "Event         0\n",
       "dtype: int64"
      ]
     },
     "execution_count": 31,
     "metadata": {},
     "output_type": "execute_result"
    }
   ],
   "source": [
    "df.isnull().sum()"
   ]
  },
  {
   "cell_type": "code",
   "execution_count": 34,
   "id": "d2c7c95e",
   "metadata": {},
   "outputs": [
    {
     "data": {
      "text/html": [
       "<div>\n",
       "<style scoped>\n",
       "    .dataframe tbody tr th:only-of-type {\n",
       "        vertical-align: middle;\n",
       "    }\n",
       "\n",
       "    .dataframe tbody tr th {\n",
       "        vertical-align: top;\n",
       "    }\n",
       "\n",
       "    .dataframe thead th {\n",
       "        text-align: right;\n",
       "    }\n",
       "</style>\n",
       "<table border=\"1\" class=\"dataframe\">\n",
       "  <thead>\n",
       "    <tr style=\"text-align: right;\">\n",
       "      <th></th>\n",
       "      <th>Name</th>\n",
       "      <th>NOC</th>\n",
       "      <th>Discipline</th>\n",
       "      <th>Event</th>\n",
       "    </tr>\n",
       "  </thead>\n",
       "  <tbody>\n",
       "    <tr>\n",
       "      <th>0</th>\n",
       "      <td>ABDELMAGID Wael</td>\n",
       "      <td>Egypt</td>\n",
       "      <td>Football</td>\n",
       "      <td>Men</td>\n",
       "    </tr>\n",
       "    <tr>\n",
       "      <th>1</th>\n",
       "      <td>ABE Junya</td>\n",
       "      <td>Japan</td>\n",
       "      <td>Volleyball</td>\n",
       "      <td>Men</td>\n",
       "    </tr>\n",
       "    <tr>\n",
       "      <th>2</th>\n",
       "      <td>ABE Katsuhiko</td>\n",
       "      <td>Japan</td>\n",
       "      <td>Basketball</td>\n",
       "      <td>Men</td>\n",
       "    </tr>\n",
       "    <tr>\n",
       "      <th>3</th>\n",
       "      <td>ADAMA Cherif</td>\n",
       "      <td>Côte d'Ivoire</td>\n",
       "      <td>Football</td>\n",
       "      <td>Men</td>\n",
       "    </tr>\n",
       "    <tr>\n",
       "      <th>4</th>\n",
       "      <td>AGEBA Yuya</td>\n",
       "      <td>Japan</td>\n",
       "      <td>Volleyball</td>\n",
       "      <td>Men</td>\n",
       "    </tr>\n",
       "  </tbody>\n",
       "</table>\n",
       "</div>"
      ],
      "text/plain": [
       "              Name            NOC  Discipline Event\n",
       "0  ABDELMAGID Wael          Egypt    Football   Men\n",
       "1        ABE Junya          Japan  Volleyball   Men\n",
       "2    ABE Katsuhiko          Japan  Basketball   Men\n",
       "3     ADAMA Cherif  Côte d'Ivoire    Football   Men\n",
       "4       AGEBA Yuya          Japan  Volleyball   Men"
      ]
     },
     "execution_count": 34,
     "metadata": {},
     "output_type": "execute_result"
    }
   ],
   "source": [
    "df.head()"
   ]
  },
  {
   "cell_type": "code",
   "execution_count": 35,
   "id": "8247dd2a",
   "metadata": {},
   "outputs": [
    {
     "data": {
      "text/plain": [
       "<AxesSubplot:>"
      ]
     },
     "execution_count": 35,
     "metadata": {},
     "output_type": "execute_result"
    },
    {
     "data": {
      "image/png": "[encoded data removed]",
      "text/plain": [
       "<Figure size 432x288 with 2 Axes>"
      ]
     },
     "metadata": {
      "needs_background": "light"
     },
     "output_type": "display_data"
    }
   ],
   "source": [
    "sns.heatmap(df.isnull())"
   ]
  },
  {
   "cell_type": "code",
   "execution_count": 36,
   "id": "ffe3476a",
   "metadata": {},
   "outputs": [
    {
     "data": {
      "text/plain": [
       "Index(['Name', 'NOC', 'Discipline', 'Event'], dtype='object')"
      ]
     },
     "execution_count": 36,
     "metadata": {},
     "output_type": "execute_result"
    }
   ],
   "source": [
    "#Analysis\n",
    "df.columns"
   ]
  },
  {
   "cell_type": "code",
   "execution_count": 39,
   "id": "cc79ec0b",
   "metadata": {},
   "outputs": [
    {
     "data": {
      "text/plain": [
       "array(['Basketball', 'Football', 'Artistic Swimming', 'Hockey',\n",
       "       'Water Polo', 'Handball'], dtype=object)"
      ]
     },
     "execution_count": 39,
     "metadata": {},
     "output_type": "execute_result"
    }
   ],
   "source": [
    "# 1.country wise game\n",
    "df[df['NOC']=='Spain']['Discipline'].unique()"
   ]
  },
  {
   "cell_type": "code",
   "execution_count": 40,
   "id": "a8a30a6a",
   "metadata": {},
   "outputs": [
    {
     "data": {
      "text/plain": [
       "0    Australia\n",
       "dtype: object"
      ]
     },
     "execution_count": 40,
     "metadata": {},
     "output_type": "execute_result"
    }
   ],
   "source": [
    "# 2.Which country played hockey the most\n",
    "df[df['Discipline']==\"Hockey\"]['NOC'].mode()"
   ]
  },
  {
   "cell_type": "code",
   "execution_count": 48,
   "id": "046bf31e",
   "metadata": {},
   "outputs": [
    {
     "data": {
      "text/html": [
       "<div>\n",
       "<style scoped>\n",
       "    .dataframe tbody tr th:only-of-type {\n",
       "        vertical-align: middle;\n",
       "    }\n",
       "\n",
       "    .dataframe tbody tr th {\n",
       "        vertical-align: top;\n",
       "    }\n",
       "\n",
       "    .dataframe thead th {\n",
       "        text-align: right;\n",
       "    }\n",
       "</style>\n",
       "<table border=\"1\" class=\"dataframe\">\n",
       "  <thead>\n",
       "    <tr style=\"text-align: right;\">\n",
       "      <th></th>\n",
       "      <th>Name</th>\n",
       "      <th>NOC</th>\n",
       "    </tr>\n",
       "  </thead>\n",
       "  <tbody>\n",
       "    <tr>\n",
       "      <th>0</th>\n",
       "      <td>ABDELMAGID Wael</td>\n",
       "      <td>Egypt</td>\n",
       "    </tr>\n",
       "    <tr>\n",
       "      <th>3</th>\n",
       "      <td>ADAMA Cherif</td>\n",
       "      <td>Côte d'Ivoire</td>\n",
       "    </tr>\n",
       "    <tr>\n",
       "      <th>11</th>\n",
       "      <td>ALSHEHRI Saad</td>\n",
       "      <td>Saudi Arabia</td>\n",
       "    </tr>\n",
       "    <tr>\n",
       "      <th>12</th>\n",
       "      <td>ALY Kamal</td>\n",
       "      <td>Egypt</td>\n",
       "    </tr>\n",
       "    <tr>\n",
       "      <th>14</th>\n",
       "      <td>AMO AGUADO Pablo</td>\n",
       "      <td>Spain</td>\n",
       "    </tr>\n",
       "    <tr>\n",
       "      <th>15</th>\n",
       "      <td>ANDONOVSKI Vlatko</td>\n",
       "      <td>United States of America</td>\n",
       "    </tr>\n",
       "    <tr>\n",
       "      <th>18</th>\n",
       "      <td>ARNOLD Graham</td>\n",
       "      <td>Australia</td>\n",
       "    </tr>\n",
       "    <tr>\n",
       "      <th>21</th>\n",
       "      <td>BACIU Horatiu</td>\n",
       "      <td>Romania</td>\n",
       "    </tr>\n",
       "    <tr>\n",
       "      <th>28</th>\n",
       "      <td>BATISTA Fernando</td>\n",
       "      <td>Argentina</td>\n",
       "    </tr>\n",
       "    <tr>\n",
       "      <th>47</th>\n",
       "      <td>BUSENKELL Axel</td>\n",
       "      <td>Germany</td>\n",
       "    </tr>\n",
       "    <tr>\n",
       "      <th>54</th>\n",
       "      <td>CASTRO Alex</td>\n",
       "      <td>Chile</td>\n",
       "    </tr>\n",
       "    <tr>\n",
       "      <th>73</th>\n",
       "      <td>DAZA Fabian</td>\n",
       "      <td>Chile</td>\n",
       "    </tr>\n",
       "    <tr>\n",
       "      <th>74</th>\n",
       "      <td>de la FUENTE CASTILLO Luis</td>\n",
       "      <td>Spain</td>\n",
       "    </tr>\n",
       "    <tr>\n",
       "      <th>101</th>\n",
       "      <td>FALERO Miguel</td>\n",
       "      <td>Honduras</td>\n",
       "    </tr>\n",
       "    <tr>\n",
       "      <th>124</th>\n",
       "      <td>GERHARDSSON Peter</td>\n",
       "      <td>Sweden</td>\n",
       "    </tr>\n",
       "    <tr>\n",
       "      <th>133</th>\n",
       "      <td>GONZALEZ Anibal</td>\n",
       "      <td>Mexico</td>\n",
       "    </tr>\n",
       "    <tr>\n",
       "      <th>136</th>\n",
       "      <td>GORDO MANSILLA Juan David</td>\n",
       "      <td>Spain</td>\n",
       "    </tr>\n",
       "    <tr>\n",
       "      <th>142</th>\n",
       "      <td>GUERRERO LOPEZ Julen</td>\n",
       "      <td>Spain</td>\n",
       "    </tr>\n",
       "    <tr>\n",
       "      <th>148</th>\n",
       "      <td>GUSTAVSSON Tony</td>\n",
       "      <td>Australia</td>\n",
       "    </tr>\n",
       "    <tr>\n",
       "      <th>150</th>\n",
       "      <td>HAIDARA Soualiho</td>\n",
       "      <td>Côte d'Ivoire</td>\n",
       "    </tr>\n",
       "    <tr>\n",
       "      <th>156</th>\n",
       "      <td>HARVEY Laura</td>\n",
       "      <td>United States of America</td>\n",
       "    </tr>\n",
       "    <tr>\n",
       "      <th>158</th>\n",
       "      <td>HAY Danny</td>\n",
       "      <td>New Zealand</td>\n",
       "    </tr>\n",
       "    <tr>\n",
       "      <th>166</th>\n",
       "      <td>HIROSE Norikazu</td>\n",
       "      <td>Japan</td>\n",
       "    </tr>\n",
       "    <tr>\n",
       "      <th>175</th>\n",
       "      <td>JARDINE Andre</td>\n",
       "      <td>Brazil</td>\n",
       "    </tr>\n",
       "    <tr>\n",
       "      <th>178</th>\n",
       "      <td>JEROME Essapa</td>\n",
       "      <td>Côte d'Ivoire</td>\n",
       "    </tr>\n",
       "    <tr>\n",
       "      <th>179</th>\n",
       "      <td>JIA Xiuquan</td>\n",
       "      <td>People's Republic of China</td>\n",
       "    </tr>\n",
       "    <tr>\n",
       "      <th>187</th>\n",
       "      <td>KANUNGO Bergin</td>\n",
       "      <td>Zambia</td>\n",
       "    </tr>\n",
       "    <tr>\n",
       "      <th>188</th>\n",
       "      <td>KAWASE Asaki</td>\n",
       "      <td>Japan</td>\n",
       "    </tr>\n",
       "    <tr>\n",
       "      <th>189</th>\n",
       "      <td>KAZAMA Takafumi</td>\n",
       "      <td>Japan</td>\n",
       "    </tr>\n",
       "    <tr>\n",
       "      <th>192</th>\n",
       "      <td>KIM Chanbin</td>\n",
       "      <td>Republic of Korea</td>\n",
       "    </tr>\n",
       "    <tr>\n",
       "      <th>193</th>\n",
       "      <td>KIM Hagbum</td>\n",
       "      <td>Republic of Korea</td>\n",
       "    </tr>\n",
       "    <tr>\n",
       "      <th>200</th>\n",
       "      <td>KOFFI Anthony</td>\n",
       "      <td>Côte d'Ivoire</td>\n",
       "    </tr>\n",
       "    <tr>\n",
       "      <th>207</th>\n",
       "      <td>KUNTZ Stefan</td>\n",
       "      <td>Germany</td>\n",
       "    </tr>\n",
       "    <tr>\n",
       "      <th>215</th>\n",
       "      <td>LETELIER Jose</td>\n",
       "      <td>Chile</td>\n",
       "    </tr>\n",
       "    <tr>\n",
       "      <th>222</th>\n",
       "      <td>LOZANO Jaime</td>\n",
       "      <td>Mexico</td>\n",
       "    </tr>\n",
       "    <tr>\n",
       "      <th>226</th>\n",
       "      <td>MAHLANGU Sibusiso</td>\n",
       "      <td>South Africa</td>\n",
       "    </tr>\n",
       "    <tr>\n",
       "      <th>233</th>\n",
       "      <td>MARINELLI Fernando</td>\n",
       "      <td>Chile</td>\n",
       "    </tr>\n",
       "    <tr>\n",
       "      <th>236</th>\n",
       "      <td>MASHA Mario</td>\n",
       "      <td>South Africa</td>\n",
       "    </tr>\n",
       "    <tr>\n",
       "      <th>238</th>\n",
       "      <td>MATSUODANI Yasushi</td>\n",
       "      <td>Japan</td>\n",
       "    </tr>\n",
       "    <tr>\n",
       "      <th>239</th>\n",
       "      <td>MAYBURY Elena</td>\n",
       "      <td>United States of America</td>\n",
       "    </tr>\n",
       "    <tr>\n",
       "      <th>259</th>\n",
       "      <td>MOHAMED Sayeda</td>\n",
       "      <td>Saudi Arabia</td>\n",
       "    </tr>\n",
       "    <tr>\n",
       "      <th>264</th>\n",
       "      <td>MORIYASU Hajime</td>\n",
       "      <td>Japan</td>\n",
       "    </tr>\n",
       "    <tr>\n",
       "      <th>268</th>\n",
       "      <td>MWAPE Bruce</td>\n",
       "      <td>Zambia</td>\n",
       "    </tr>\n",
       "    <tr>\n",
       "      <th>273</th>\n",
       "      <td>NCUBE Mthandazo</td>\n",
       "      <td>South Africa</td>\n",
       "    </tr>\n",
       "    <tr>\n",
       "      <th>274</th>\n",
       "      <td>NEVES Christophe</td>\n",
       "      <td>Côte d'Ivoire</td>\n",
       "    </tr>\n",
       "    <tr>\n",
       "      <th>276</th>\n",
       "      <td>NOTOANE David</td>\n",
       "      <td>South Africa</td>\n",
       "    </tr>\n",
       "    <tr>\n",
       "      <th>300</th>\n",
       "      <td>PRIESTMAN Bev</td>\n",
       "      <td>Canada</td>\n",
       "    </tr>\n",
       "    <tr>\n",
       "      <th>301</th>\n",
       "      <td>RADOI Mirel</td>\n",
       "      <td>Romania</td>\n",
       "    </tr>\n",
       "    <tr>\n",
       "      <th>309</th>\n",
       "      <td>RIISE Hege</td>\n",
       "      <td>Great Britain</td>\n",
       "    </tr>\n",
       "    <tr>\n",
       "      <th>311</th>\n",
       "      <td>RIPOLL Sylvain</td>\n",
       "      <td>France</td>\n",
       "    </tr>\n",
       "    <tr>\n",
       "      <th>316</th>\n",
       "      <td>SALAM Mohamed</td>\n",
       "      <td>Egypt</td>\n",
       "    </tr>\n",
       "    <tr>\n",
       "      <th>325</th>\n",
       "      <td>SERMANNI Tom</td>\n",
       "      <td>New Zealand</td>\n",
       "    </tr>\n",
       "    <tr>\n",
       "      <th>329</th>\n",
       "      <td>SHAWKY Gharib</td>\n",
       "      <td>Egypt</td>\n",
       "    </tr>\n",
       "    <tr>\n",
       "      <th>330</th>\n",
       "      <td>SIAM Zaghloul</td>\n",
       "      <td>Egypt</td>\n",
       "    </tr>\n",
       "    <tr>\n",
       "      <th>343</th>\n",
       "      <td>SUNDHAGE Pia Mariane</td>\n",
       "      <td>Brazil</td>\n",
       "    </tr>\n",
       "    <tr>\n",
       "      <th>348</th>\n",
       "      <td>TAGLE German</td>\n",
       "      <td>Chile</td>\n",
       "    </tr>\n",
       "    <tr>\n",
       "      <th>349</th>\n",
       "      <td>TAKAKURA Asako</td>\n",
       "      <td>Japan</td>\n",
       "    </tr>\n",
       "    <tr>\n",
       "      <th>379</th>\n",
       "      <td>WIEGMAN Sarina</td>\n",
       "      <td>Netherlands</td>\n",
       "    </tr>\n",
       "    <tr>\n",
       "      <th>380</th>\n",
       "      <td>WIRTH Oscar</td>\n",
       "      <td>Chile</td>\n",
       "    </tr>\n",
       "  </tbody>\n",
       "</table>\n",
       "</div>"
      ],
      "text/plain": [
       "                           Name                         NOC\n",
       "0               ABDELMAGID Wael                       Egypt\n",
       "3                  ADAMA Cherif               Côte d'Ivoire\n",
       "11                ALSHEHRI Saad                Saudi Arabia\n",
       "12                    ALY Kamal                       Egypt\n",
       "14             AMO AGUADO Pablo                       Spain\n",
       "15            ANDONOVSKI Vlatko    United States of America\n",
       "18                ARNOLD Graham                   Australia\n",
       "21                BACIU Horatiu                     Romania\n",
       "28             BATISTA Fernando                   Argentina\n",
       "47               BUSENKELL Axel                     Germany\n",
       "54                  CASTRO Alex                       Chile\n",
       "73                  DAZA Fabian                       Chile\n",
       "74   de la FUENTE CASTILLO Luis                       Spain\n",
       "101               FALERO Miguel                    Honduras\n",
       "124           GERHARDSSON Peter                      Sweden\n",
       "133             GONZALEZ Anibal                      Mexico\n",
       "136   GORDO MANSILLA Juan David                       Spain\n",
       "142        GUERRERO LOPEZ Julen                       Spain\n",
       "148             GUSTAVSSON Tony                   Australia\n",
       "150            HAIDARA Soualiho               Côte d'Ivoire\n",
       "156                HARVEY Laura    United States of America\n",
       "158                   HAY Danny                 New Zealand\n",
       "166             HIROSE Norikazu                       Japan\n",
       "175               JARDINE Andre                      Brazil\n",
       "178               JEROME Essapa               Côte d'Ivoire\n",
       "179                 JIA Xiuquan  People's Republic of China\n",
       "187              KANUNGO Bergin                      Zambia\n",
       "188                KAWASE Asaki                       Japan\n",
       "189             KAZAMA Takafumi                       Japan\n",
       "192                 KIM Chanbin           Republic of Korea\n",
       "193                  KIM Hagbum           Republic of Korea\n",
       "200               KOFFI Anthony               Côte d'Ivoire\n",
       "207                KUNTZ Stefan                     Germany\n",
       "215               LETELIER Jose                       Chile\n",
       "222                LOZANO Jaime                      Mexico\n",
       "226           MAHLANGU Sibusiso                South Africa\n",
       "233          MARINELLI Fernando                       Chile\n",
       "236                 MASHA Mario                South Africa\n",
       "238          MATSUODANI Yasushi                       Japan\n",
       "239               MAYBURY Elena    United States of America\n",
       "259              MOHAMED Sayeda                Saudi Arabia\n",
       "264             MORIYASU Hajime                       Japan\n",
       "268                 MWAPE Bruce                      Zambia\n",
       "273             NCUBE Mthandazo                South Africa\n",
       "274            NEVES Christophe               Côte d'Ivoire\n",
       "276               NOTOANE David                South Africa\n",
       "300               PRIESTMAN Bev                      Canada\n",
       "301                 RADOI Mirel                     Romania\n",
       "309                  RIISE Hege               Great Britain\n",
       "311              RIPOLL Sylvain                      France\n",
       "316               SALAM Mohamed                       Egypt\n",
       "325                SERMANNI Tom                 New Zealand\n",
       "329               SHAWKY Gharib                       Egypt\n",
       "330               SIAM Zaghloul                       Egypt\n",
       "343        SUNDHAGE Pia Mariane                      Brazil\n",
       "348                TAGLE German                       Chile\n",
       "349              TAKAKURA Asako                       Japan\n",
       "379              WIEGMAN Sarina                 Netherlands\n",
       "380                 WIRTH Oscar                       Chile"
      ]
     },
     "execution_count": 48,
     "metadata": {},
     "output_type": "execute_result"
    }
   ],
   "source": [
    "df[df['Discipline']=='Football'][['Name','NOC']]"
   ]
  },
  {
   "cell_type": "code",
   "execution_count": 50,
   "id": "18803964",
   "metadata": {},
   "outputs": [
    {
     "data": {
      "text/plain": [
       "Japan                       35\n",
       "United States of America    28\n",
       "Spain                       28\n",
       "Australia                   22\n",
       "Canada                      16\n",
       "                            ..\n",
       "Portugal                     1\n",
       "Belarus                      1\n",
       "Slovakia                     1\n",
       "Croatia                      1\n",
       "Liechtenstein                1\n",
       "Name: NOC, Length: 61, dtype: int64"
      ]
     },
     "execution_count": 50,
     "metadata": {},
     "output_type": "execute_result"
    }
   ],
   "source": [
    "#max. num of footboller in a individual country\n",
    "df['NOC'].value_counts()"
   ]
  },
  {
   "cell_type": "code",
   "execution_count": 51,
   "id": "91f9df8d",
   "metadata": {},
   "outputs": [
    {
     "data": {
      "text/plain": [
       "Japan                         6\n",
       "Chile                         6\n",
       "Egypt                         5\n",
       "Côte d'Ivoire                 5\n",
       "South Africa                  4\n",
       "Spain                         4\n",
       "United States of America      3\n",
       "Republic of Korea             2\n",
       "Zambia                        2\n",
       "Brazil                        2\n",
       "New Zealand                   2\n",
       "Mexico                        2\n",
       "Germany                       2\n",
       "Romania                       2\n",
       "Australia                     2\n",
       "Saudi Arabia                  2\n",
       "Sweden                        1\n",
       "Honduras                      1\n",
       "Argentina                     1\n",
       "People's Republic of China    1\n",
       "Canada                        1\n",
       "Great Britain                 1\n",
       "France                        1\n",
       "Netherlands                   1\n",
       "Name: NOC, dtype: int64"
      ]
     },
     "execution_count": 51,
     "metadata": {},
     "output_type": "execute_result"
    }
   ],
   "source": [
    "df[df['Discipline']=='Football'][['Name','NOC']]['NOC'].value_counts()"
   ]
  },
  {
   "cell_type": "code",
   "execution_count": 52,
   "id": "6f28e203",
   "metadata": {},
   "outputs": [
    {
     "data": {
      "text/plain": [
       "Basketball           74\n",
       "Artistic Swimming    69\n",
       "Football             59\n",
       "Volleyball           45\n",
       "Hockey               45\n",
       "Handball             29\n",
       "Baseball/Softball    26\n",
       "Rugby Sevens         25\n",
       "Water Polo           22\n",
       "Name: Discipline, dtype: int64"
      ]
     },
     "execution_count": 52,
     "metadata": {},
     "output_type": "execute_result"
    }
   ],
   "source": [
    "df['Discipline'].value_counts()"
   ]
  },
  {
   "cell_type": "code",
   "execution_count": 54,
   "id": "e24a3652",
   "metadata": {},
   "outputs": [],
   "source": [
    "#artistic swimming event +player name\n",
    "x = df[df['Discipline']=='Artistic Swimming']['Event'].unique()\n"
   ]
  },
  {
   "cell_type": "code",
   "execution_count": 55,
   "id": "d4f8dd22",
   "metadata": {},
   "outputs": [
    {
     "data": {
      "text/plain": [
       "array(['Duet', 'Men', 'Team'], dtype=object)"
      ]
     },
     "execution_count": 55,
     "metadata": {},
     "output_type": "execute_result"
    }
   ],
   "source": [
    "x"
   ]
  },
  {
   "cell_type": "code",
   "execution_count": 59,
   "id": "224cbe40",
   "metadata": {},
   "outputs": [
    {
     "data": {
      "text/html": [
       "<div>\n",
       "<style scoped>\n",
       "    .dataframe tbody tr th:only-of-type {\n",
       "        vertical-align: middle;\n",
       "    }\n",
       "\n",
       "    .dataframe tbody tr th {\n",
       "        vertical-align: top;\n",
       "    }\n",
       "\n",
       "    .dataframe thead th {\n",
       "        text-align: right;\n",
       "    }\n",
       "</style>\n",
       "<table border=\"1\" class=\"dataframe\">\n",
       "  <thead>\n",
       "    <tr style=\"text-align: right;\">\n",
       "      <th></th>\n",
       "      <th>Name</th>\n",
       "      <th>Event</th>\n",
       "    </tr>\n",
       "  </thead>\n",
       "  <tbody>\n",
       "    <tr>\n",
       "      <th>26</th>\n",
       "      <td>BASSO Paola</td>\n",
       "      <td>Duet</td>\n",
       "    </tr>\n",
       "    <tr>\n",
       "      <th>35</th>\n",
       "      <td>BLECHER SIDOROVA Svetlana</td>\n",
       "      <td>Duet</td>\n",
       "    </tr>\n",
       "    <tr>\n",
       "      <th>43</th>\n",
       "      <td>BRUN Aristide</td>\n",
       "      <td>Men</td>\n",
       "    </tr>\n",
       "    <tr>\n",
       "      <th>45</th>\n",
       "      <td>BURLANDO Giovanna</td>\n",
       "      <td>Men</td>\n",
       "    </tr>\n",
       "    <tr>\n",
       "      <th>56</th>\n",
       "      <td>CHEPAK Anastasiya</td>\n",
       "      <td>Duet</td>\n",
       "    </tr>\n",
       "    <tr>\n",
       "      <th>...</th>\n",
       "      <td>...</td>\n",
       "      <td>...</td>\n",
       "    </tr>\n",
       "    <tr>\n",
       "      <th>375</th>\n",
       "      <td>WANG Jie</td>\n",
       "      <td>Duet</td>\n",
       "    </tr>\n",
       "    <tr>\n",
       "      <th>376</th>\n",
       "      <td>WANG Jie</td>\n",
       "      <td>Team</td>\n",
       "    </tr>\n",
       "    <tr>\n",
       "      <th>388</th>\n",
       "      <td>ZAITSEVA Olesia</td>\n",
       "      <td>Duet</td>\n",
       "    </tr>\n",
       "    <tr>\n",
       "      <th>390</th>\n",
       "      <td>ZAMPIERI Francesca</td>\n",
       "      <td>Duet</td>\n",
       "    </tr>\n",
       "    <tr>\n",
       "      <th>391</th>\n",
       "      <td>ZHANG Xiaohuan</td>\n",
       "      <td>Men</td>\n",
       "    </tr>\n",
       "  </tbody>\n",
       "</table>\n",
       "<p>69 rows × 2 columns</p>\n",
       "</div>"
      ],
      "text/plain": [
       "                          Name Event\n",
       "26                 BASSO Paola  Duet\n",
       "35   BLECHER SIDOROVA Svetlana  Duet\n",
       "43               BRUN Aristide   Men\n",
       "45           BURLANDO Giovanna   Men\n",
       "56           CHEPAK Anastasiya  Duet\n",
       "..                         ...   ...\n",
       "375                   WANG Jie  Duet\n",
       "376                   WANG Jie  Team\n",
       "388            ZAITSEVA Olesia  Duet\n",
       "390         ZAMPIERI Francesca  Duet\n",
       "391             ZHANG Xiaohuan   Men\n",
       "\n",
       "[69 rows x 2 columns]"
      ]
     },
     "execution_count": 59,
     "metadata": {},
     "output_type": "execute_result"
    }
   ],
   "source": [
    "df[df['Discipline']=='Artistic Swimming'][['Name','Event']]"
   ]
  },
  {
   "cell_type": "code",
   "execution_count": null,
   "id": "d60fd814",
   "metadata": {},
   "outputs": [],
   "source": []
  }
 ],
 "metadata": {
  "kernelspec": {
   "display_name": "Python 3 (ipykernel)",
   "language": "python",
   "name": "python3"
  },
  "language_info": {
   "codemirror_mode": {
    "name": "ipython",
    "version": 3
   },
   "file_extension": ".py",
   "mimetype": "text/x-python",
   "name": "python",
   "nbconvert_exporter": "python",
   "pygments_lexer": "ipython3",
   "version": "3.9.7"
  }
 },
 "nbformat": 4,
 "nbformat_minor": 5
}
