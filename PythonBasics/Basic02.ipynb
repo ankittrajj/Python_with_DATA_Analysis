{
 "cells": [
  {
   "cell_type": "markdown",
   "id": "002de59d",
   "metadata": {},
   "source": [
    "# Function"
   ]
  },
  {
   "cell_type": "code",
   "execution_count": 1,
   "id": "25e0b68c",
   "metadata": {},
   "outputs": [],
   "source": [
    "#1 NO Argument + NO Return\n",
    "def add():\n",
    "    a=int (input(\"first num\"))\n",
    "    b=int (input(\"second num\"))\n",
    "    c=a+b\n",
    "    print(c);\n",
    "    "
   ]
  },
  {
   "cell_type": "code",
   "execution_count": 2,
   "id": "4bd05ee6",
   "metadata": {},
   "outputs": [
    {
     "name": "stdout",
     "output_type": "stream",
     "text": [
      "first num1\n",
      "second num2\n",
      "3\n"
     ]
    }
   ],
   "source": [
    "add();"
   ]
  },
  {
   "cell_type": "code",
   "execution_count": 3,
   "id": "e35e9f67",
   "metadata": {},
   "outputs": [
    {
     "name": "stdout",
     "output_type": "stream",
     "text": [
      "5\n"
     ]
    }
   ],
   "source": [
    "# 2 NO Return + Argument\n",
    "def add(a,b):\n",
    "    c=a+b;\n",
    "    print(c);\n",
    "add(2,3);"
   ]
  },
  {
   "cell_type": "code",
   "execution_count": 6,
   "id": "4670301a",
   "metadata": {},
   "outputs": [
    {
     "name": "stdout",
     "output_type": "stream",
     "text": [
      "3\n"
     ]
    }
   ],
   "source": [
    "# 3 Argument + Return\n",
    "def add(a,b):\n",
    "    return a+b\n",
    "print(add(2,1))"
   ]
  },
  {
   "cell_type": "code",
   "execution_count": 10,
   "id": "645b0bac",
   "metadata": {},
   "outputs": [
    {
     "name": "stdout",
     "output_type": "stream",
     "text": [
      "enter the num1\n",
      "enter the num2\n"
     ]
    },
    {
     "data": {
      "text/plain": [
       "3"
      ]
     },
     "execution_count": 10,
     "metadata": {},
     "output_type": "execute_result"
    }
   ],
   "source": [
    "# 4 NO Argument + Return\n",
    "def add():\n",
    "    a=int(input(\"enter the num\"))\n",
    "    b=int(input(\"enter the num\"))\n",
    "    return a+b;\n",
    "add()"
   ]
  },
  {
   "cell_type": "code",
   "execution_count": 16,
   "id": "949a15f5",
   "metadata": {},
   "outputs": [
    {
     "name": "stdout",
     "output_type": "stream",
     "text": [
      "value of a is  78\n",
      "value of b is  90\n"
     ]
    }
   ],
   "source": [
    "#swap two numbers\n",
    "a=90\n",
    "b=78\n",
    "temp =a\n",
    "a=b\n",
    "b=temp\n",
    "print(\"value of a is \",a)\n",
    "print(\"value of b is \",b)"
   ]
  },
  {
   "cell_type": "code",
   "execution_count": 18,
   "id": "81ab1b0d",
   "metadata": {},
   "outputs": [
    {
     "name": "stdout",
     "output_type": "stream",
     "text": [
      "23\n",
      "90\n"
     ]
    }
   ],
   "source": [
    "a=90\n",
    "b=23\n",
    "a,b=b,a\n",
    "print(\"value of a is :\",a)\n",
    "print(b)\n"
   ]
  },
  {
   "cell_type": "code",
   "execution_count": null,
   "id": "8eb15033",
   "metadata": {},
   "outputs": [],
   "source": []
  }
 ],
 "metadata": {
  "kernelspec": {
   "display_name": "Python 3",
   "language": "python",
   "name": "python3"
  },
  "language_info": {
   "codemirror_mode": {
    "name": "ipython",
    "version": 3
   },
   "file_extension": ".py",
   "mimetype": "text/x-python",
   "name": "python",
   "nbconvert_exporter": "python",
   "pygments_lexer": "ipython3",
   "version": "3.8.8"
  }
 },
 "nbformat": 4,
 "nbformat_minor": 5
}
