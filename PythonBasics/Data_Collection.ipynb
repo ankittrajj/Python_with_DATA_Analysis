{
 "cells": [
  {
   "cell_type": "markdown",
   "id": "4e1b4eaa",
   "metadata": {},
   "source": [
    "# List"
   ]
  },
  {
   "cell_type": "code",
   "execution_count": 1,
   "id": "e6377f9a",
   "metadata": {},
   "outputs": [],
   "source": [
    "myList= [7,9.8,'Ankit',True,\"asdfgh\",'']"
   ]
  },
  {
   "cell_type": "code",
   "execution_count": 3,
   "id": "f5123ba9",
   "metadata": {},
   "outputs": [
    {
     "name": "stdout",
     "output_type": "stream",
     "text": [
      "[7, 9.8, 'Ankit', True, 'asdfgh', '']\n"
     ]
    }
   ],
   "source": [
    "print(myList)"
   ]
  },
  {
   "cell_type": "code",
   "execution_count": 4,
   "id": "d1e87526",
   "metadata": {},
   "outputs": [
    {
     "data": {
      "text/plain": [
       "list"
      ]
     },
     "execution_count": 4,
     "metadata": {},
     "output_type": "execute_result"
    }
   ],
   "source": [
    "type(myList)"
   ]
  },
  {
   "cell_type": "code",
   "execution_count": 5,
   "id": "35003ba4",
   "metadata": {},
   "outputs": [
    {
     "name": "stdout",
     "output_type": "stream",
     "text": [
      "7\n"
     ]
    }
   ],
   "source": [
    "#Slicing\n",
    "print(myList[0])"
   ]
  },
  {
   "cell_type": "code",
   "execution_count": 6,
   "id": "b2033182",
   "metadata": {},
   "outputs": [],
   "source": [
    "myList[0]='afdbvh'"
   ]
  },
  {
   "cell_type": "code",
   "execution_count": 7,
   "id": "68005acd",
   "metadata": {},
   "outputs": [
    {
     "data": {
      "text/plain": [
       "['afdbvh', 9.8, 'Ankit', True, 'asdfgh', '']"
      ]
     },
     "execution_count": 7,
     "metadata": {},
     "output_type": "execute_result"
    }
   ],
   "source": [
    "myList"
   ]
  },
  {
   "cell_type": "code",
   "execution_count": 9,
   "id": "99855894",
   "metadata": {},
   "outputs": [
    {
     "data": {
      "text/plain": [
       "['afdbvh', 9.8]"
      ]
     },
     "execution_count": 9,
     "metadata": {},
     "output_type": "execute_result"
    }
   ],
   "source": [
    "myList[0:2]"
   ]
  },
  {
   "cell_type": "code",
   "execution_count": 10,
   "id": "d3a9951f",
   "metadata": {},
   "outputs": [
    {
     "data": {
      "text/plain": [
       "['afdbvh', 'Ankit']"
      ]
     },
     "execution_count": 10,
     "metadata": {},
     "output_type": "execute_result"
    }
   ],
   "source": [
    "myList[0:3:2]"
   ]
  },
  {
   "cell_type": "markdown",
   "id": "24724fb8",
   "metadata": {},
   "source": [
    "# List Methods\n",
    "\n",
    "* Sort\n",
    "* Reverse\n",
    "* Append\n",
    "* Insert\n",
    "* Pop\n",
    "* Remove"
   ]
  },
  {
   "cell_type": "code",
   "execution_count": 11,
   "id": "330e6f07",
   "metadata": {},
   "outputs": [],
   "source": [
    "x = [23,45,65,-99,22.2,12]"
   ]
  },
  {
   "cell_type": "code",
   "execution_count": 12,
   "id": "1a7bcc91",
   "metadata": {},
   "outputs": [
    {
     "name": "stdout",
     "output_type": "stream",
     "text": [
      "[23, 45, 65, -99, 22.2, 12]\n"
     ]
    }
   ],
   "source": [
    "print(x)"
   ]
  },
  {
   "cell_type": "code",
   "execution_count": 13,
   "id": "5fb66be1",
   "metadata": {},
   "outputs": [],
   "source": [
    "x.sort()"
   ]
  },
  {
   "cell_type": "code",
   "execution_count": 14,
   "id": "8e9c61b6",
   "metadata": {},
   "outputs": [
    {
     "name": "stdout",
     "output_type": "stream",
     "text": [
      "[-99, 12, 22.2, 23, 45, 65]\n"
     ]
    }
   ],
   "source": [
    "print(x)"
   ]
  },
  {
   "cell_type": "code",
   "execution_count": 26,
   "id": "2abf3cb4",
   "metadata": {},
   "outputs": [],
   "source": [
    "a = ['Python','Java',12,89]"
   ]
  },
  {
   "cell_type": "code",
   "execution_count": 27,
   "id": "803f91dd",
   "metadata": {},
   "outputs": [
    {
     "name": "stdout",
     "output_type": "stream",
     "text": [
      "['Python', 'Java', 12, 89]\n"
     ]
    }
   ],
   "source": [
    "print(a)"
   ]
  },
  {
   "cell_type": "code",
   "execution_count": 28,
   "id": "ae62b03b",
   "metadata": {},
   "outputs": [
    {
     "data": {
      "text/plain": [
       "list"
      ]
     },
     "execution_count": 28,
     "metadata": {},
     "output_type": "execute_result"
    }
   ],
   "source": [
    "type(a)"
   ]
  },
  {
   "cell_type": "code",
   "execution_count": 29,
   "id": "f41a1b3b",
   "metadata": {},
   "outputs": [
    {
     "ename": "TypeError",
     "evalue": "'<' not supported between instances of 'int' and 'str'",
     "output_type": "error",
     "traceback": [
      "\u001b[1;31m---------------------------------------------------------------------------\u001b[0m",
      "\u001b[1;31mTypeError\u001b[0m                                 Traceback (most recent call last)",
      "\u001b[1;32m<ipython-input-29-2ed0d7de6146>\u001b[0m in \u001b[0;36m<module>\u001b[1;34m\u001b[0m\n\u001b[1;32m----> 1\u001b[1;33m \u001b[0ma\u001b[0m\u001b[1;33m.\u001b[0m\u001b[0msort\u001b[0m\u001b[1;33m(\u001b[0m\u001b[1;33m)\u001b[0m\u001b[1;33m\u001b[0m\u001b[1;33m\u001b[0m\u001b[0m\n\u001b[0m",
      "\u001b[1;31mTypeError\u001b[0m: '<' not supported between instances of 'int' and 'str'"
     ]
    }
   ],
   "source": [
    "a.sort()"
   ]
  },
  {
   "cell_type": "code",
   "execution_count": 55,
   "id": "b6380803",
   "metadata": {},
   "outputs": [],
   "source": [
    "y = ['100','23','Python','Java']"
   ]
  },
  {
   "cell_type": "code",
   "execution_count": 56,
   "id": "db7314a4",
   "metadata": {},
   "outputs": [],
   "source": [
    "y.sort()"
   ]
  },
  {
   "cell_type": "code",
   "execution_count": 57,
   "id": "97b93151",
   "metadata": {},
   "outputs": [
    {
     "data": {
      "text/plain": [
       "['100', '23', 'Java', 'Python']"
      ]
     },
     "execution_count": 57,
     "metadata": {},
     "output_type": "execute_result"
    }
   ],
   "source": [
    "y"
   ]
  },
  {
   "cell_type": "code",
   "execution_count": 58,
   "id": "043c50ac",
   "metadata": {},
   "outputs": [],
   "source": [
    "#reverse\n",
    "z = [222,89,0,67,-122,78.098]\n"
   ]
  },
  {
   "cell_type": "code",
   "execution_count": 59,
   "id": "81db3e01",
   "metadata": {},
   "outputs": [
    {
     "name": "stdout",
     "output_type": "stream",
     "text": [
      "[222, 89, 0, 67, -122, 78.098]\n"
     ]
    }
   ],
   "source": [
    "print(z)"
   ]
  },
  {
   "cell_type": "code",
   "execution_count": 60,
   "id": "b64c025f",
   "metadata": {},
   "outputs": [],
   "source": [
    "z.reverse()"
   ]
  },
  {
   "cell_type": "code",
   "execution_count": 61,
   "id": "954b626d",
   "metadata": {},
   "outputs": [
    {
     "data": {
      "text/plain": [
       "[78.098, -122, 67, 0, 89, 222]"
      ]
     },
     "execution_count": 61,
     "metadata": {},
     "output_type": "execute_result"
    }
   ],
   "source": [
    "z"
   ]
  },
  {
   "cell_type": "code",
   "execution_count": 63,
   "id": "5706f2e0",
   "metadata": {},
   "outputs": [],
   "source": [
    "#append\n",
    "a = ['Java','Python']"
   ]
  },
  {
   "cell_type": "code",
   "execution_count": 64,
   "id": "75fed0c7",
   "metadata": {},
   "outputs": [
    {
     "name": "stdout",
     "output_type": "stream",
     "text": [
      "['Java', 'Python']\n"
     ]
    }
   ],
   "source": [
    "print(a)"
   ]
  },
  {
   "cell_type": "code",
   "execution_count": 65,
   "id": "afe6177a",
   "metadata": {},
   "outputs": [
    {
     "data": {
      "text/plain": [
       "list"
      ]
     },
     "execution_count": 65,
     "metadata": {},
     "output_type": "execute_result"
    }
   ],
   "source": [
    "type(a)"
   ]
  },
  {
   "cell_type": "code",
   "execution_count": 66,
   "id": "70125cac",
   "metadata": {},
   "outputs": [],
   "source": [
    "a.append(23)"
   ]
  },
  {
   "cell_type": "code",
   "execution_count": 67,
   "id": "eaf8ae81",
   "metadata": {},
   "outputs": [
    {
     "data": {
      "text/plain": [
       "['Java', 'Python', 23]"
      ]
     },
     "execution_count": 67,
     "metadata": {},
     "output_type": "execute_result"
    }
   ],
   "source": [
    "a"
   ]
  },
  {
   "cell_type": "code",
   "execution_count": 68,
   "id": "8d8ce2ad",
   "metadata": {},
   "outputs": [],
   "source": [
    "#insert\n",
    "a.insert(0,'Bahuballuy')"
   ]
  },
  {
   "cell_type": "code",
   "execution_count": 69,
   "id": "c744aa0d",
   "metadata": {},
   "outputs": [
    {
     "data": {
      "text/plain": [
       "['Bahuballuy', 'Java', 'Python', 23]"
      ]
     },
     "execution_count": 69,
     "metadata": {},
     "output_type": "execute_result"
    }
   ],
   "source": [
    "a"
   ]
  },
  {
   "cell_type": "code",
   "execution_count": 73,
   "id": "b26d0d64",
   "metadata": {},
   "outputs": [],
   "source": [
    "a.insert(2,'Bhalaldev')"
   ]
  },
  {
   "cell_type": "code",
   "execution_count": 74,
   "id": "197883d2",
   "metadata": {},
   "outputs": [
    {
     "data": {
      "text/plain": [
       "['Bahuballuy', 'Java', 'Bhalaldev', 'Bhalaldev', 'Python', 23]"
      ]
     },
     "execution_count": 74,
     "metadata": {},
     "output_type": "execute_result"
    }
   ],
   "source": [
    "a"
   ]
  },
  {
   "cell_type": "code",
   "execution_count": 75,
   "id": "0f24e084",
   "metadata": {},
   "outputs": [
    {
     "data": {
      "text/plain": [
       "['Bahuballuy', 'Java', 'Bhalaldev', 'Bhalaldev', 'Python', 23]"
      ]
     },
     "execution_count": 75,
     "metadata": {},
     "output_type": "execute_result"
    }
   ],
   "source": [
    "#pop\n",
    "a"
   ]
  },
  {
   "cell_type": "code",
   "execution_count": 78,
   "id": "2fc49c97",
   "metadata": {},
   "outputs": [
    {
     "data": {
      "text/plain": [
       "'Bahuballuy'"
      ]
     },
     "execution_count": 78,
     "metadata": {},
     "output_type": "execute_result"
    }
   ],
   "source": [
    "a.pop(0)"
   ]
  },
  {
   "cell_type": "code",
   "execution_count": 79,
   "id": "541bd37b",
   "metadata": {},
   "outputs": [
    {
     "data": {
      "text/plain": [
       "['Java', 'Bhalaldev', 'Bhalaldev', 'Python']"
      ]
     },
     "execution_count": 79,
     "metadata": {},
     "output_type": "execute_result"
    }
   ],
   "source": [
    "a"
   ]
  },
  {
   "cell_type": "code",
   "execution_count": 82,
   "id": "5d79561d",
   "metadata": {},
   "outputs": [
    {
     "data": {
      "text/plain": [
       "['Java', 'Bhalaldev', 'Bhalaldev', 'Python']"
      ]
     },
     "execution_count": 82,
     "metadata": {},
     "output_type": "execute_result"
    }
   ],
   "source": [
    "#remove\n",
    "a"
   ]
  },
  {
   "cell_type": "markdown",
   "id": "bc31b4d2",
   "metadata": {},
   "source": [
    "# Tuple\n",
    "* Count\n",
    "* Index"
   ]
  },
  {
   "cell_type": "code",
   "execution_count": 83,
   "id": "9c96cb65",
   "metadata": {},
   "outputs": [
    {
     "data": {
      "text/plain": [
       "['Java', 'Bhalaldev', 'Bhalaldev', 'Python']"
      ]
     },
     "execution_count": 83,
     "metadata": {},
     "output_type": "execute_result"
    }
   ],
   "source": [
    "a"
   ]
  },
  {
   "cell_type": "code",
   "execution_count": 84,
   "id": "cdaff0df",
   "metadata": {},
   "outputs": [],
   "source": [
    "a.remove('Java')"
   ]
  },
  {
   "cell_type": "code",
   "execution_count": 85,
   "id": "6219eb21",
   "metadata": {},
   "outputs": [
    {
     "data": {
      "text/plain": [
       "['Bhalaldev', 'Bhalaldev', 'Python']"
      ]
     },
     "execution_count": 85,
     "metadata": {},
     "output_type": "execute_result"
    }
   ],
   "source": [
    "a"
   ]
  },
  {
   "cell_type": "code",
   "execution_count": 86,
   "id": "c26d2a1b",
   "metadata": {},
   "outputs": [
    {
     "name": "stdout",
     "output_type": "stream",
     "text": [
      "['Bhalaldev', 'Bhalaldev', 'Python']\n"
     ]
    }
   ],
   "source": [
    "print(a)"
   ]
  },
  {
   "cell_type": "code",
   "execution_count": 87,
   "id": "7c486d04",
   "metadata": {},
   "outputs": [
    {
     "name": "stdout",
     "output_type": "stream",
     "text": [
      "['Bhalaldev', 'Bhalaldev', 'Python']\n"
     ]
    }
   ],
   "source": [
    "print(a)"
   ]
  },
  {
   "cell_type": "code",
   "execution_count": 88,
   "id": "f9b94855",
   "metadata": {},
   "outputs": [],
   "source": [
    "# Make a list and store 4 items by the users.\n",
    "# Display the marks of 4 students and display in a sorted form"
   ]
  },
  {
   "cell_type": "code",
   "execution_count": 91,
   "id": "63814ace",
   "metadata": {},
   "outputs": [],
   "source": [
    "#Tuple\n",
    "#* Count\n",
    "#* Index"
   ]
  },
  {
   "cell_type": "code",
   "execution_count": 125,
   "id": "52b4b7c0",
   "metadata": {},
   "outputs": [],
   "source": [
    "t = (1,'xyz',22.3)"
   ]
  },
  {
   "cell_type": "code",
   "execution_count": 126,
   "id": "7c8ab355",
   "metadata": {},
   "outputs": [
    {
     "name": "stdout",
     "output_type": "stream",
     "text": [
      "(1, 'xyz', 22.3)\n"
     ]
    }
   ],
   "source": [
    "print(t)"
   ]
  },
  {
   "cell_type": "code",
   "execution_count": 127,
   "id": "189c36e1",
   "metadata": {},
   "outputs": [
    {
     "data": {
      "text/plain": [
       "tuple"
      ]
     },
     "execution_count": 127,
     "metadata": {},
     "output_type": "execute_result"
    }
   ],
   "source": [
    "type(t)"
   ]
  },
  {
   "cell_type": "code",
   "execution_count": 129,
   "id": "e096336a",
   "metadata": {},
   "outputs": [],
   "source": []
  },
  {
   "cell_type": "markdown",
   "id": "e6050b67",
   "metadata": {},
   "source": []
  },
  {
   "cell_type": "code",
   "execution_count": 130,
   "id": "9b87fa59",
   "metadata": {},
   "outputs": [],
   "source": [
    "x = (1,0,0,9,8,7,6,4,0,0,1)"
   ]
  },
  {
   "cell_type": "code",
   "execution_count": 131,
   "id": "9e9b6a88",
   "metadata": {},
   "outputs": [
    {
     "name": "stdout",
     "output_type": "stream",
     "text": [
      "(1, 0, 0, 9, 8, 7, 6, 4, 0, 0, 1)\n"
     ]
    }
   ],
   "source": [
    "print(x)"
   ]
  },
  {
   "cell_type": "code",
   "execution_count": 132,
   "id": "d69c849b",
   "metadata": {},
   "outputs": [
    {
     "data": {
      "text/plain": [
       "tuple"
      ]
     },
     "execution_count": 132,
     "metadata": {},
     "output_type": "execute_result"
    }
   ],
   "source": [
    "type(x)"
   ]
  },
  {
   "cell_type": "code",
   "execution_count": 133,
   "id": "1c592a4e",
   "metadata": {},
   "outputs": [
    {
     "data": {
      "text/plain": [
       "4"
      ]
     },
     "execution_count": 133,
     "metadata": {},
     "output_type": "execute_result"
    }
   ],
   "source": [
    "x.count(0)"
   ]
  },
  {
   "cell_type": "code",
   "execution_count": 136,
   "id": "d2cbe1ba",
   "metadata": {},
   "outputs": [
    {
     "data": {
      "text/plain": [
       "1"
      ]
     },
     "execution_count": 136,
     "metadata": {},
     "output_type": "execute_result"
    }
   ],
   "source": [
    "x.index(0)"
   ]
  },
  {
   "cell_type": "code",
   "execution_count": 137,
   "id": "709f5c72",
   "metadata": {},
   "outputs": [],
   "source": [
    "# Check tuple is mutable or not??"
   ]
  },
  {
   "cell_type": "code",
   "execution_count": null,
   "id": "9c356b5e",
   "metadata": {},
   "outputs": [],
   "source": [
    "#count the 1 in this tuple\n",
    "(1,2,3,1,1,4,44,11,11.11,-1)\n",
    "\n",
    "# Make a list and count the sum of each no."
   ]
  }
 ],
 "metadata": {
  "kernelspec": {
   "display_name": "Python 3",
   "language": "python",
   "name": "python3"
  },
  "language_info": {
   "codemirror_mode": {
    "name": "ipython",
    "version": 3
   },
   "file_extension": ".py",
   "mimetype": "text/x-python",
   "name": "python",
   "nbconvert_exporter": "python",
   "pygments_lexer": "ipython3",
   "version": "3.8.8"
  }
 },
 "nbformat": 4,
 "nbformat_minor": 5
}
