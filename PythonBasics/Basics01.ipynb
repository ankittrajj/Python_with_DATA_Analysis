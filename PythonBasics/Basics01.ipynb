{
 "cells": [
  {
   "cell_type": "markdown",
   "id": "c14ecc31",
   "metadata": {},
   "source": [
    "# Print\n",
    "* Variables\n",
    "* Datatypes"
   ]
  },
  {
   "cell_type": "code",
   "execution_count": 1,
   "id": "579a79ce",
   "metadata": {},
   "outputs": [
    {
     "name": "stdout",
     "output_type": "stream",
     "text": [
      "the sum is 5\n"
     ]
    }
   ],
   "source": [
    "a=3\n",
    "b=2\n",
    "c=a+b\n",
    "print(\"the sum is\",c)"
   ]
  },
  {
   "cell_type": "code",
   "execution_count": 2,
   "id": "02246d22",
   "metadata": {},
   "outputs": [
    {
     "name": "stdout",
     "output_type": "stream",
     "text": [
      "enter first num 2\n",
      "enter second num 7\n",
      "9.0\n"
     ]
    }
   ],
   "source": [
    "a=float(input(\"enter first num \"));\n",
    "b =float(input('enter second num '));\n",
    "c=a+b;\n",
    "print(c)"
   ]
  },
  {
   "cell_type": "code",
   "execution_count": 3,
   "id": "787a4064",
   "metadata": {},
   "outputs": [],
   "source": [
    "x_ =0;\n"
   ]
  },
  {
   "cell_type": "code",
   "execution_count": 4,
   "id": "7168d522",
   "metadata": {},
   "outputs": [
    {
     "data": {
      "text/plain": [
       "0"
      ]
     },
     "execution_count": 4,
     "metadata": {},
     "output_type": "execute_result"
    }
   ],
   "source": [
    "x_"
   ]
  },
  {
   "cell_type": "markdown",
   "id": "323c3cc0",
   "metadata": {},
   "source": [
    "# Operators\n",
    "* Airthmetic operator"
   ]
  },
  {
   "cell_type": "code",
   "execution_count": 5,
   "id": "516d983c",
   "metadata": {},
   "outputs": [
    {
     "data": {
      "text/plain": [
       "100"
      ]
     },
     "execution_count": 5,
     "metadata": {},
     "output_type": "execute_result"
    }
   ],
   "source": [
    "x=99\n",
    "x+1"
   ]
  },
  {
   "cell_type": "code",
   "execution_count": 6,
   "id": "b43f85c9",
   "metadata": {},
   "outputs": [
    {
     "name": "stdout",
     "output_type": "stream",
     "text": [
      "99\n"
     ]
    }
   ],
   "source": [
    "print(x)"
   ]
  },
  {
   "cell_type": "code",
   "execution_count": 7,
   "id": "119efaad",
   "metadata": {},
   "outputs": [],
   "source": [
    "x=99\n",
    "x+=1\n",
    "# print(x)"
   ]
  },
  {
   "cell_type": "code",
   "execution_count": 8,
   "id": "c30d5802",
   "metadata": {},
   "outputs": [
    {
     "data": {
      "text/plain": [
       "0.5"
      ]
     },
     "execution_count": 8,
     "metadata": {},
     "output_type": "execute_result"
    }
   ],
   "source": [
    "3/6"
   ]
  },
  {
   "cell_type": "code",
   "execution_count": 9,
   "id": "b7d36dbc",
   "metadata": {},
   "outputs": [
    {
     "data": {
      "text/plain": [
       "2.0"
      ]
     },
     "execution_count": 9,
     "metadata": {},
     "output_type": "execute_result"
    }
   ],
   "source": [
    "6/3"
   ]
  },
  {
   "cell_type": "code",
   "execution_count": 10,
   "id": "c818153e",
   "metadata": {},
   "outputs": [
    {
     "data": {
      "text/plain": [
       "0.8571428571428571"
      ]
     },
     "execution_count": 10,
     "metadata": {},
     "output_type": "execute_result"
    }
   ],
   "source": [
    "6/7"
   ]
  },
  {
   "cell_type": "code",
   "execution_count": 11,
   "id": "402f5b3b",
   "metadata": {},
   "outputs": [],
   "source": [
    "b=9>0"
   ]
  },
  {
   "cell_type": "code",
   "execution_count": 12,
   "id": "fd7c3991",
   "metadata": {},
   "outputs": [
    {
     "data": {
      "text/plain": [
       "True"
      ]
     },
     "execution_count": 12,
     "metadata": {},
     "output_type": "execute_result"
    }
   ],
   "source": [
    "b"
   ]
  },
  {
   "cell_type": "code",
   "execution_count": 13,
   "id": "88e3b9d6",
   "metadata": {},
   "outputs": [],
   "source": [
    "b=0>9"
   ]
  },
  {
   "cell_type": "code",
   "execution_count": 14,
   "id": "163f9767",
   "metadata": {},
   "outputs": [
    {
     "data": {
      "text/plain": [
       "False"
      ]
     },
     "execution_count": 14,
     "metadata": {},
     "output_type": "execute_result"
    }
   ],
   "source": [
    "b"
   ]
  },
  {
   "cell_type": "code",
   "execution_count": 15,
   "id": "9506f44b",
   "metadata": {},
   "outputs": [],
   "source": [
    "a=9==0"
   ]
  },
  {
   "cell_type": "code",
   "execution_count": 16,
   "id": "2c5d0d5c",
   "metadata": {},
   "outputs": [
    {
     "data": {
      "text/plain": [
       "False"
      ]
     },
     "execution_count": 16,
     "metadata": {},
     "output_type": "execute_result"
    }
   ],
   "source": [
    "a"
   ]
  },
  {
   "cell_type": "code",
   "execution_count": 17,
   "id": "d493994f",
   "metadata": {},
   "outputs": [],
   "source": [
    "a='234'"
   ]
  },
  {
   "cell_type": "code",
   "execution_count": 18,
   "id": "32179d93",
   "metadata": {},
   "outputs": [
    {
     "name": "stdout",
     "output_type": "stream",
     "text": [
      "234\n"
     ]
    }
   ],
   "source": [
    "print(int(a))"
   ]
  },
  {
   "cell_type": "code",
   "execution_count": 19,
   "id": "5906bc3f",
   "metadata": {},
   "outputs": [],
   "source": [
    "a=123"
   ]
  },
  {
   "cell_type": "code",
   "execution_count": 20,
   "id": "9254b68f",
   "metadata": {},
   "outputs": [
    {
     "name": "stdout",
     "output_type": "stream",
     "text": [
      "(123+0j)\n"
     ]
    }
   ],
   "source": [
    "print(complex(a))"
   ]
  },
  {
   "cell_type": "code",
   "execution_count": 21,
   "id": "fba61938",
   "metadata": {},
   "outputs": [],
   "source": [
    "a='123'"
   ]
  },
  {
   "cell_type": "code",
   "execution_count": 22,
   "id": "4c33d21f",
   "metadata": {},
   "outputs": [
    {
     "name": "stdout",
     "output_type": "stream",
     "text": [
      "124\n"
     ]
    }
   ],
   "source": [
    "print(int(a)+1)"
   ]
  },
  {
   "cell_type": "code",
   "execution_count": 23,
   "id": "fcdbb189",
   "metadata": {},
   "outputs": [
    {
     "name": "stdout",
     "output_type": "stream",
     "text": [
      "90\n"
     ]
    }
   ],
   "source": [
    "a=90\n",
    "print(str(a))"
   ]
  },
  {
   "cell_type": "code",
   "execution_count": 24,
   "id": "79e9d8e9",
   "metadata": {},
   "outputs": [
    {
     "data": {
      "text/plain": [
       "int"
      ]
     },
     "execution_count": 24,
     "metadata": {},
     "output_type": "execute_result"
    }
   ],
   "source": [
    "type(a)"
   ]
  },
  {
   "cell_type": "code",
   "execution_count": 25,
   "id": "93b563c4",
   "metadata": {},
   "outputs": [
    {
     "name": "stdout",
     "output_type": "stream",
     "text": [
      "enter the namejkl\n",
      "my name is  jkl\n"
     ]
    }
   ],
   "source": [
    "a = input(\"enter the name\")\n",
    "print(\"my name is \",a);"
   ]
  },
  {
   "cell_type": "code",
   "execution_count": 26,
   "id": "b79250ca",
   "metadata": {},
   "outputs": [],
   "source": [
    "a=11;\n",
    "b = (str(a))"
   ]
  },
  {
   "cell_type": "code",
   "execution_count": 27,
   "id": "d021864e",
   "metadata": {},
   "outputs": [
    {
     "name": "stdout",
     "output_type": "stream",
     "text": [
      "11\n"
     ]
    }
   ],
   "source": [
    "print(b)"
   ]
  },
  {
   "cell_type": "code",
   "execution_count": 28,
   "id": "e4bcb1ad",
   "metadata": {},
   "outputs": [
    {
     "data": {
      "text/plain": [
       "str"
      ]
     },
     "execution_count": 28,
     "metadata": {},
     "output_type": "execute_result"
    }
   ],
   "source": [
    "type(b)"
   ]
  },
  {
   "cell_type": "code",
   "execution_count": 29,
   "id": "1ec80b1f",
   "metadata": {},
   "outputs": [
    {
     "data": {
      "text/plain": [
       "int"
      ]
     },
     "execution_count": 29,
     "metadata": {},
     "output_type": "execute_result"
    }
   ],
   "source": [
    "type(a)"
   ]
  },
  {
   "cell_type": "code",
   "execution_count": 30,
   "id": "507cc82a",
   "metadata": {},
   "outputs": [],
   "source": [
    "a=\"11\""
   ]
  },
  {
   "cell_type": "code",
   "execution_count": 31,
   "id": "073006c5",
   "metadata": {},
   "outputs": [],
   "source": [
    "b = complex(a)"
   ]
  },
  {
   "cell_type": "code",
   "execution_count": 32,
   "id": "17db4b22",
   "metadata": {},
   "outputs": [
    {
     "name": "stdout",
     "output_type": "stream",
     "text": [
      "(11+0j)\n"
     ]
    }
   ],
   "source": [
    "print(b)"
   ]
  },
  {
   "cell_type": "code",
   "execution_count": 33,
   "id": "a1abfefa",
   "metadata": {},
   "outputs": [
    {
     "data": {
      "text/plain": [
       "complex"
      ]
     },
     "execution_count": 33,
     "metadata": {},
     "output_type": "execute_result"
    }
   ],
   "source": [
    "type(b)"
   ]
  },
  {
   "cell_type": "code",
   "execution_count": 34,
   "id": "520e46bb",
   "metadata": {},
   "outputs": [
    {
     "data": {
      "text/plain": [
       "str"
      ]
     },
     "execution_count": 34,
     "metadata": {},
     "output_type": "execute_result"
    }
   ],
   "source": [
    "type(a)"
   ]
  },
  {
   "cell_type": "code",
   "execution_count": 35,
   "id": "60c986e8",
   "metadata": {},
   "outputs": [],
   "source": [
    "a='123sdf'"
   ]
  },
  {
   "cell_type": "code",
   "execution_count": 36,
   "id": "a4ffcfa3",
   "metadata": {},
   "outputs": [
    {
     "ename": "ValueError",
     "evalue": "invalid literal for int() with base 10: '123sdf'",
     "output_type": "error",
     "traceback": [
      "\u001b[1;31m---------------------------------------------------------------------------\u001b[0m",
      "\u001b[1;31mValueError\u001b[0m                                Traceback (most recent call last)",
      "\u001b[1;32m<ipython-input-36-a5debf0a0f9a>\u001b[0m in \u001b[0;36m<module>\u001b[1;34m\u001b[0m\n\u001b[1;32m----> 1\u001b[1;33m \u001b[0mb\u001b[0m \u001b[1;33m=\u001b[0m \u001b[0mint\u001b[0m\u001b[1;33m(\u001b[0m\u001b[0ma\u001b[0m\u001b[1;33m)\u001b[0m\u001b[1;33m;\u001b[0m\u001b[1;33m\u001b[0m\u001b[1;33m\u001b[0m\u001b[0m\n\u001b[0m\u001b[0;32m      2\u001b[0m \u001b[0mprint\u001b[0m\u001b[1;33m(\u001b[0m\u001b[0mb\u001b[0m\u001b[1;33m)\u001b[0m\u001b[1;33m\u001b[0m\u001b[1;33m\u001b[0m\u001b[0m\n",
      "\u001b[1;31mValueError\u001b[0m: invalid literal for int() with base 10: '123sdf'"
     ]
    }
   ],
   "source": [
    "b = int(a);\n",
    "print(b)"
   ]
  },
  {
   "cell_type": "code",
   "execution_count": 37,
   "id": "aa0759e0",
   "metadata": {},
   "outputs": [
    {
     "data": {
      "text/plain": [
       "0"
      ]
     },
     "execution_count": 37,
     "metadata": {},
     "output_type": "execute_result"
    }
   ],
   "source": [
    "22%2"
   ]
  },
  {
   "cell_type": "code",
   "execution_count": 38,
   "id": "8ee52b3b",
   "metadata": {},
   "outputs": [
    {
     "name": "stdout",
     "output_type": "stream",
     "text": [
      "1\n"
     ]
    }
   ],
   "source": [
    "print(21%2)"
   ]
  },
  {
   "cell_type": "code",
   "execution_count": 39,
   "id": "3f652bc9",
   "metadata": {},
   "outputs": [],
   "source": [
    "a='asdefdfs'"
   ]
  },
  {
   "cell_type": "code",
   "execution_count": 40,
   "id": "65b9dac2",
   "metadata": {},
   "outputs": [
    {
     "data": {
      "text/plain": [
       "8"
      ]
     },
     "execution_count": 40,
     "metadata": {},
     "output_type": "execute_result"
    }
   ],
   "source": [
    "len(a)"
   ]
  },
  {
   "cell_type": "code",
   "execution_count": 41,
   "id": "fd479a31",
   "metadata": {},
   "outputs": [
    {
     "data": {
      "text/plain": [
       "8"
      ]
     },
     "execution_count": 41,
     "metadata": {},
     "output_type": "execute_result"
    }
   ],
   "source": [
    "len(a)"
   ]
  },
  {
   "cell_type": "code",
   "execution_count": 42,
   "id": "3236a290",
   "metadata": {},
   "outputs": [
    {
     "name": "stdout",
     "output_type": "stream",
     "text": [
      "enter the num9\n",
      "9\n"
     ]
    }
   ],
   "source": [
    "a=input(\"enter the num\")\n",
    "print(a)"
   ]
  },
  {
   "cell_type": "code",
   "execution_count": 43,
   "id": "fe91f6ce",
   "metadata": {},
   "outputs": [
    {
     "data": {
      "text/plain": [
       "str"
      ]
     },
     "execution_count": 43,
     "metadata": {},
     "output_type": "execute_result"
    }
   ],
   "source": [
    "type(a)"
   ]
  },
  {
   "cell_type": "code",
   "execution_count": 44,
   "id": "e3485357",
   "metadata": {},
   "outputs": [
    {
     "name": "stdout",
     "output_type": "stream",
     "text": [
      "first num 6\n",
      "second num 7\n",
      "6.5\n"
     ]
    }
   ],
   "source": [
    "a=int(input(\"first num \"));\n",
    "b=int(input('second num '));\n",
    "avg = (a+b)/2;\n",
    "print(avg)"
   ]
  },
  {
   "cell_type": "code",
   "execution_count": 45,
   "id": "1c5bb46d",
   "metadata": {},
   "outputs": [],
   "source": [
    "a ='''ram's'''"
   ]
  },
  {
   "cell_type": "code",
   "execution_count": 46,
   "id": "846a9e40",
   "metadata": {},
   "outputs": [
    {
     "name": "stdout",
     "output_type": "stream",
     "text": [
      "ram's\n"
     ]
    }
   ],
   "source": [
    "print(a)"
   ]
  },
  {
   "cell_type": "code",
   "execution_count": 47,
   "id": "685cfc3f",
   "metadata": {},
   "outputs": [],
   "source": [
    "a='me'"
   ]
  },
  {
   "cell_type": "code",
   "execution_count": 48,
   "id": "a6865b3f",
   "metadata": {},
   "outputs": [],
   "source": [
    "b='you'"
   ]
  },
  {
   "cell_type": "code",
   "execution_count": 49,
   "id": "e7088dca",
   "metadata": {},
   "outputs": [
    {
     "name": "stdout",
     "output_type": "stream",
     "text": [
      "meyou\n"
     ]
    }
   ],
   "source": [
    "print(a+b)"
   ]
  },
  {
   "cell_type": "code",
   "execution_count": 50,
   "id": "d63a4961",
   "metadata": {},
   "outputs": [],
   "source": [
    "a='jeevan'"
   ]
  },
  {
   "cell_type": "code",
   "execution_count": 51,
   "id": "77d9723c",
   "metadata": {},
   "outputs": [
    {
     "name": "stdout",
     "output_type": "stream",
     "text": [
      "jeevan\n"
     ]
    }
   ],
   "source": [
    "print(a)"
   ]
  },
  {
   "cell_type": "code",
   "execution_count": 52,
   "id": "d023d023",
   "metadata": {},
   "outputs": [
    {
     "name": "stdout",
     "output_type": "stream",
     "text": [
      "e\n"
     ]
    }
   ],
   "source": [
    "print(a[2])"
   ]
  },
  {
   "cell_type": "code",
   "execution_count": 53,
   "id": "bed633a2",
   "metadata": {},
   "outputs": [
    {
     "ename": "TypeError",
     "evalue": "'str' object does not support item assignment",
     "output_type": "error",
     "traceback": [
      "\u001b[1;31m---------------------------------------------------------------------------\u001b[0m",
      "\u001b[1;31mTypeError\u001b[0m                                 Traceback (most recent call last)",
      "\u001b[1;32m<ipython-input-53-774031140619>\u001b[0m in \u001b[0;36m<module>\u001b[1;34m\u001b[0m\n\u001b[1;32m----> 1\u001b[1;33m \u001b[0ma\u001b[0m\u001b[1;33m[\u001b[0m\u001b[1;36m2\u001b[0m\u001b[1;33m]\u001b[0m\u001b[1;33m=\u001b[0m\u001b[1;34m'd'\u001b[0m\u001b[1;33m\u001b[0m\u001b[1;33m\u001b[0m\u001b[0m\n\u001b[0m",
      "\u001b[1;31mTypeError\u001b[0m: 'str' object does not support item assignment"
     ]
    }
   ],
   "source": [
    "a[2]='d'"
   ]
  },
  {
   "cell_type": "code",
   "execution_count": 54,
   "id": "b9d1b229",
   "metadata": {},
   "outputs": [
    {
     "name": "stdout",
     "output_type": "stream",
     "text": [
      "jee\n"
     ]
    }
   ],
   "source": [
    "print(a[0:3])"
   ]
  },
  {
   "cell_type": "code",
   "execution_count": 55,
   "id": "2a64df54",
   "metadata": {},
   "outputs": [
    {
     "name": "stdout",
     "output_type": "stream",
     "text": [
      "jeev\n"
     ]
    }
   ],
   "source": [
    "print(a[:4])"
   ]
  },
  {
   "cell_type": "code",
   "execution_count": 56,
   "id": "316c0e03",
   "metadata": {},
   "outputs": [
    {
     "name": "stdout",
     "output_type": "stream",
     "text": [
      "n\n"
     ]
    }
   ],
   "source": [
    "print(a[-1])"
   ]
  },
  {
   "cell_type": "code",
   "execution_count": 57,
   "id": "68492e66",
   "metadata": {},
   "outputs": [
    {
     "name": "stdout",
     "output_type": "stream",
     "text": [
      "jeeva\n"
     ]
    }
   ],
   "source": [
    "print(a[:-1])"
   ]
  },
  {
   "cell_type": "code",
   "execution_count": 58,
   "id": "856d5d2a",
   "metadata": {},
   "outputs": [
    {
     "name": "stdout",
     "output_type": "stream",
     "text": [
      "j\n"
     ]
    }
   ],
   "source": [
    "print(a[:-5])"
   ]
  },
  {
   "cell_type": "code",
   "execution_count": 59,
   "id": "0499841e",
   "metadata": {},
   "outputs": [
    {
     "name": "stdout",
     "output_type": "stream",
     "text": [
      "jeevan\n"
     ]
    }
   ],
   "source": [
    "print(a[0:])"
   ]
  },
  {
   "cell_type": "code",
   "execution_count": 60,
   "id": "916a4038",
   "metadata": {},
   "outputs": [],
   "source": [
    "x = 'america'"
   ]
  },
  {
   "cell_type": "code",
   "execution_count": 61,
   "id": "2b400c7b",
   "metadata": {},
   "outputs": [
    {
     "name": "stdout",
     "output_type": "stream",
     "text": [
      "ae\n"
     ]
    }
   ],
   "source": [
    "print(x[:4:2])"
   ]
  },
  {
   "cell_type": "code",
   "execution_count": 62,
   "id": "aed408da",
   "metadata": {},
   "outputs": [
    {
     "data": {
      "text/plain": [
       "False"
      ]
     },
     "execution_count": 62,
     "metadata": {},
     "output_type": "execute_result"
    }
   ],
   "source": [
    "x.endswith('c')"
   ]
  },
  {
   "cell_type": "code",
   "execution_count": 63,
   "id": "730d6832",
   "metadata": {},
   "outputs": [
    {
     "data": {
      "text/plain": [
       "True"
      ]
     },
     "execution_count": 63,
     "metadata": {},
     "output_type": "execute_result"
    }
   ],
   "source": [
    "x.endswith('a')"
   ]
  },
  {
   "cell_type": "code",
   "execution_count": 64,
   "id": "456f5436",
   "metadata": {},
   "outputs": [
    {
     "data": {
      "text/plain": [
       "2"
      ]
     },
     "execution_count": 64,
     "metadata": {},
     "output_type": "execute_result"
    }
   ],
   "source": [
    "x.count('a')"
   ]
  },
  {
   "cell_type": "code",
   "execution_count": 65,
   "id": "222ce1b9",
   "metadata": {},
   "outputs": [],
   "source": [
    "x='there was a lion in the forest and lion was very cute'"
   ]
  },
  {
   "cell_type": "code",
   "execution_count": 66,
   "id": "251b45f9",
   "metadata": {},
   "outputs": [
    {
     "data": {
      "text/plain": [
       "'There was a lion in the forest and lion was very cute'"
      ]
     },
     "execution_count": 66,
     "metadata": {},
     "output_type": "execute_result"
    }
   ],
   "source": [
    "x.capitalize()"
   ]
  },
  {
   "cell_type": "code",
   "execution_count": 67,
   "id": "ea978b61",
   "metadata": {},
   "outputs": [
    {
     "data": {
      "text/plain": [
       "-1"
      ]
     },
     "execution_count": 67,
     "metadata": {},
     "output_type": "execute_result"
    }
   ],
   "source": [
    "x.find('me')"
   ]
  },
  {
   "cell_type": "code",
   "execution_count": 68,
   "id": "e15bf05b",
   "metadata": {},
   "outputs": [
    {
     "data": {
      "text/plain": [
       "12"
      ]
     },
     "execution_count": 68,
     "metadata": {},
     "output_type": "execute_result"
    }
   ],
   "source": [
    "x.find('lion')"
   ]
  },
  {
   "cell_type": "code",
   "execution_count": 69,
   "id": "8e889591",
   "metadata": {},
   "outputs": [
    {
     "data": {
      "text/plain": [
       "7"
      ]
     },
     "execution_count": 69,
     "metadata": {},
     "output_type": "execute_result"
    }
   ],
   "source": [
    "x.find('a')"
   ]
  },
  {
   "cell_type": "code",
   "execution_count": 70,
   "id": "54246323",
   "metadata": {},
   "outputs": [
    {
     "data": {
      "text/plain": [
       "'there was a dog in the forest and dog was very cute'"
      ]
     },
     "execution_count": 70,
     "metadata": {},
     "output_type": "execute_result"
    }
   ],
   "source": [
    "x.replace('lion','dog')"
   ]
  },
  {
   "cell_type": "code",
   "execution_count": 71,
   "id": "a97ed77c",
   "metadata": {},
   "outputs": [
    {
     "name": "stdout",
     "output_type": "stream",
     "text": [
      "Dear NAME,\n",
      "you are selected for next round\n",
      "Date: Date\n",
      "\n"
     ]
    }
   ],
   "source": [
    "letter = '''Dear NAME,\n",
    "you are selected for next round\n",
    "Date: Date\n",
    "'''\n",
    "print(letter)"
   ]
  },
  {
   "cell_type": "code",
   "execution_count": 72,
   "id": "d820a35a",
   "metadata": {},
   "outputs": [],
   "source": [
    "letter= letter.replace('NAME','ankit')\n",
    "letter= letter.replace('DATE','6 july')"
   ]
  },
  {
   "cell_type": "code",
   "execution_count": 73,
   "id": "8c4a7292",
   "metadata": {},
   "outputs": [
    {
     "name": "stdout",
     "output_type": "stream",
     "text": [
      "Dear ankit,\n",
      "you are selected for next round\n",
      "Date: Date\n",
      "\n"
     ]
    }
   ],
   "source": [
    "print(letter)\n",
    "# print(letter)"
   ]
  },
  {
   "cell_type": "code",
   "execution_count": 78,
   "id": "c4cdde73",
   "metadata": {},
   "outputs": [
    {
     "name": "stdout",
     "output_type": "stream",
     "text": [
      "Dear NAME,\n",
      "you are selected for next round\n",
      "Date: Date\n",
      "\n"
     ]
    }
   ],
   "source": [
    "x = '''Dear NAME,\n",
    "you are selected for next round\n",
    "Date: Date\n",
    "'''\n",
    "print(x)"
   ]
  },
  {
   "cell_type": "code",
   "execution_count": 79,
   "id": "0943ff76",
   "metadata": {},
   "outputs": [
    {
     "name": "stdout",
     "output_type": "stream",
     "text": [
      "enter your namejkl\n",
      "date plz9 july\n"
     ]
    }
   ],
   "source": [
    "name=input(\"enter your name\")\n",
    "date =input('date plz')\n",
    "x= x.replace('NAME',name)\n",
    "x= x.replace('DATE',date)"
   ]
  },
  {
   "cell_type": "code",
   "execution_count": 80,
   "id": "e23afdd6",
   "metadata": {},
   "outputs": [
    {
     "name": "stdout",
     "output_type": "stream",
     "text": [
      "Dear jkl,\n",
      "you are selected for next round\n",
      "Date: Date\n",
      "\n"
     ]
    }
   ],
   "source": [
    "print(x)"
   ]
  },
  {
   "cell_type": "code",
   "execution_count": 81,
   "id": "d73de2b2",
   "metadata": {},
   "outputs": [
    {
     "name": "stdout",
     "output_type": "stream",
     "text": [
      "hello name\n",
      "what is the date today\n"
     ]
    }
   ],
   "source": [
    "y ='''hello name\n",
    "what is the date today'''\n",
    "print(y)"
   ]
  },
  {
   "cell_type": "code",
   "execution_count": 84,
   "id": "a8677f15",
   "metadata": {},
   "outputs": [
    {
     "name": "stdout",
     "output_type": "stream",
     "text": [
      "enter the nameankit\n",
      "enter the date2 nov\n",
      "hello ankit\n",
      "what is the 2 nov today\n"
     ]
    }
   ],
   "source": [
    "name = input(\"enter the name\")\n",
    "date = input(\"enter the date\")\n",
    "y = y.replace('name',name)\n",
    "y =y.replace('date',date)\n",
    "print(y)"
   ]
  },
  {
   "cell_type": "code",
   "execution_count": 90,
   "id": "3e988b7a",
   "metadata": {},
   "outputs": [
    {
     "name": "stdout",
     "output_type": "stream",
     "text": [
      "enter your age21\n",
      "adult\n"
     ]
    }
   ],
   "source": [
    "age = int(input(\"enter your age\"))\n",
    "if(age>=20):\n",
    "    print(\"adult\")\n",
    "elif(age==18):\n",
    "    print('teenager')\n",
    "else:\n",
    "    print('kid')"
   ]
  },
  {
   "cell_type": "code",
   "execution_count": 95,
   "id": "c38f8e87",
   "metadata": {},
   "outputs": [
    {
     "name": "stdout",
     "output_type": "stream",
     "text": [
      "0\n",
      "2\n",
      "4\n",
      "6\n",
      "8\n"
     ]
    }
   ],
   "source": [
    "i =0;\n",
    "while(i<10):\n",
    "    print(i);\n",
    "    i+=2;"
   ]
  },
  {
   "cell_type": "code",
   "execution_count": 99,
   "id": "b417559d",
   "metadata": {},
   "outputs": [
    {
     "name": "stdout",
     "output_type": "stream",
     "text": [
      "5\n",
      "7\n",
      "9\n"
     ]
    }
   ],
   "source": [
    "for i in range(5,10,2):\n",
    "    print(i)"
   ]
  },
  {
   "cell_type": "code",
   "execution_count": 108,
   "id": "46a10418",
   "metadata": {},
   "outputs": [
    {
     "name": "stdout",
     "output_type": "stream",
     "text": [
      "10\n",
      "9\n",
      "8\n",
      "7\n",
      "6\n",
      "5\n",
      "4\n",
      "3\n",
      "2\n",
      "1\n"
     ]
    }
   ],
   "source": [
    "for i in range(10,0,-1):\n",
    "    print(i)"
   ]
  },
  {
   "cell_type": "code",
   "execution_count": null,
   "id": "e5a9d6fc",
   "metadata": {},
   "outputs": [],
   "source": []
  }
 ],
 "metadata": {
  "kernelspec": {
   "display_name": "Python 3",
   "language": "python",
   "name": "python3"
  },
  "language_info": {
   "codemirror_mode": {
    "name": "ipython",
    "version": 3
   },
   "file_extension": ".py",
   "mimetype": "text/x-python",
   "name": "python",
   "nbconvert_exporter": "python",
   "pygments_lexer": "ipython3",
   "version": "3.8.8"
  }
 },
 "nbformat": 4,
 "nbformat_minor": 5
}
