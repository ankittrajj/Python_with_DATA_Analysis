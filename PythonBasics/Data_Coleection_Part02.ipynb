{
 "cells": [
  {
   "cell_type": "markdown",
   "id": "1bd4eb33",
   "metadata": {},
   "source": [
    "# Dict"
   ]
  },
  {
   "cell_type": "code",
   "execution_count": 7,
   "id": "e780fed1",
   "metadata": {},
   "outputs": [],
   "source": [
    "myDict = {\n",
    "    'name':'ankit',\n",
    "    'age': 24,\n",
    "    'hobby':'Dance',\n",
    "    'list':[1,2,3,4]\n",
    "}"
   ]
  },
  {
   "cell_type": "code",
   "execution_count": 8,
   "id": "3163465f",
   "metadata": {},
   "outputs": [
    {
     "data": {
      "text/plain": [
       "{'name': 'ankit', 'age': 24, 'hobby': 'Dance', 'list': [1, 2, 3, 4]}"
      ]
     },
     "execution_count": 8,
     "metadata": {},
     "output_type": "execute_result"
    }
   ],
   "source": [
    "myDict"
   ]
  },
  {
   "cell_type": "code",
   "execution_count": 9,
   "id": "6390be65",
   "metadata": {},
   "outputs": [],
   "source": [
    "myDict={\n",
    "    1:200\n",
    "}"
   ]
  },
  {
   "cell_type": "code",
   "execution_count": 11,
   "id": "7f4e4ffa",
   "metadata": {},
   "outputs": [
    {
     "name": "stdout",
     "output_type": "stream",
     "text": [
      "{1: 200}\n"
     ]
    }
   ],
   "source": [
    "print(myDict)"
   ]
  },
  {
   "cell_type": "code",
   "execution_count": 14,
   "id": "d9786824",
   "metadata": {},
   "outputs": [],
   "source": [
    "myDict = {\n",
    "    'name':'ankit',\n",
    "    'age': 24,\n",
    "    'hobby':'Dance',\n",
    "    'list':[1,2,3,4],\n",
    "    'dusraDict':{'lname':'Singh'}\n",
    "}"
   ]
  },
  {
   "cell_type": "code",
   "execution_count": 15,
   "id": "eedee92d",
   "metadata": {},
   "outputs": [],
   "source": [
    "# write a program and print list & dict in Dict..?? \n"
   ]
  },
  {
   "cell_type": "code",
   "execution_count": 17,
   "id": "a7e31bb1",
   "metadata": {},
   "outputs": [],
   "source": [
    "myDict={\n",
    "    'name':'Bhauballi',\n",
    "    'age':30,\n",
    "    'hobby': \"Mashmati ki suraksha\",\n",
    "    'weapons':['talwar','bhala','toop','dhanus'],\n",
    "    'dusraDist':{\n",
    "        'name':'Bhaladev',\n",
    "        'age':35\n",
    "        \n",
    "    },\n",
    "    1:2\n",
    "}"
   ]
  },
  {
   "cell_type": "code",
   "execution_count": 18,
   "id": "5373fbc0",
   "metadata": {},
   "outputs": [
    {
     "data": {
      "text/plain": [
       "{'name': 'Bhauballi',\n",
       " 'age': 30,\n",
       " 'hobby': 'Mashmati ki suraksha',\n",
       " 'weapons': ['talwar', 'bhala', 'toop', 'dhanus'],\n",
       " 'dusraDist': {'name': 'Bhaladev', 'age': 35},\n",
       " 1: 2}"
      ]
     },
     "execution_count": 18,
     "metadata": {},
     "output_type": "execute_result"
    }
   ],
   "source": [
    "myDict"
   ]
  },
  {
   "cell_type": "code",
   "execution_count": 23,
   "id": "676a6466",
   "metadata": {},
   "outputs": [
    {
     "name": "stdout",
     "output_type": "stream",
     "text": [
      "Bhauballi\n"
     ]
    }
   ],
   "source": [
    "#slicing in dict\n",
    "print(myDict['name'])"
   ]
  },
  {
   "cell_type": "code",
   "execution_count": 27,
   "id": "5b5fe80d",
   "metadata": {},
   "outputs": [
    {
     "ename": "TypeError",
     "evalue": "string indices must be integers",
     "output_type": "error",
     "traceback": [
      "\u001b[1;31m---------------------------------------------------------------------------\u001b[0m",
      "\u001b[1;31mTypeError\u001b[0m                                 Traceback (most recent call last)",
      "\u001b[1;32m<ipython-input-27-f5dfda3aa6fd>\u001b[0m in \u001b[0;36m<module>\u001b[1;34m\u001b[0m\n\u001b[1;32m----> 1\u001b[1;33m \u001b[0mmyDict\u001b[0m\u001b[1;33m[\u001b[0m\u001b[1;34m'name'\u001b[0m\u001b[1;33m]\u001b[0m\u001b[1;33m[\u001b[0m\u001b[1;34m'age'\u001b[0m\u001b[1;33m]\u001b[0m\u001b[1;33m\u001b[0m\u001b[1;33m\u001b[0m\u001b[0m\n\u001b[0m",
      "\u001b[1;31mTypeError\u001b[0m: string indices must be integers"
     ]
    }
   ],
   "source": [
    "myDict['name']['age']"
   ]
  },
  {
   "cell_type": "code",
   "execution_count": 25,
   "id": "c97f3315",
   "metadata": {},
   "outputs": [
    {
     "data": {
      "text/plain": [
       "'talwar'"
      ]
     },
     "execution_count": 25,
     "metadata": {},
     "output_type": "execute_result"
    }
   ],
   "source": [
    "myDict['weapons'][0]"
   ]
  },
  {
   "cell_type": "code",
   "execution_count": 28,
   "id": "46e6eb66",
   "metadata": {},
   "outputs": [
    {
     "data": {
      "text/plain": [
       "{'name': 'Bhauballi',\n",
       " 'age': 30,\n",
       " 'hobby': 'Mashmati ki suraksha',\n",
       " 'weapons': ['talwar', 'bhala', 'toop', 'dhanus'],\n",
       " 'dusraDist': {'name': 'Bhaladev', 'age': 35},\n",
       " 1: 2}"
      ]
     },
     "execution_count": 28,
     "metadata": {},
     "output_type": "execute_result"
    }
   ],
   "source": [
    "myDict"
   ]
  },
  {
   "cell_type": "code",
   "execution_count": 30,
   "id": "e72dd0ba",
   "metadata": {},
   "outputs": [
    {
     "data": {
      "text/plain": [
       "'B'"
      ]
     },
     "execution_count": 30,
     "metadata": {},
     "output_type": "execute_result"
    }
   ],
   "source": [
    "myDict['dusraDist']['name'][0]"
   ]
  },
  {
   "cell_type": "code",
   "execution_count": 31,
   "id": "6eff6395",
   "metadata": {},
   "outputs": [
    {
     "data": {
      "text/plain": [
       "{'name': 'Bhauballi',\n",
       " 'age': 30,\n",
       " 'hobby': 'Mashmati ki suraksha',\n",
       " 'weapons': ['talwar', 'bhala', 'toop', 'dhanus'],\n",
       " 'dusraDist': {'name': 'Bhaladev', 'age': 35},\n",
       " 1: 2}"
      ]
     },
     "execution_count": 31,
     "metadata": {},
     "output_type": "execute_result"
    }
   ],
   "source": [
    "myDict"
   ]
  },
  {
   "cell_type": "code",
   "execution_count": 32,
   "id": "ab164729",
   "metadata": {},
   "outputs": [
    {
     "data": {
      "text/plain": [
       "'bhala'"
      ]
     },
     "execution_count": 32,
     "metadata": {},
     "output_type": "execute_result"
    }
   ],
   "source": [
    "myDict['weapons'][1]"
   ]
  },
  {
   "cell_type": "markdown",
   "id": "5c16cbaf",
   "metadata": {},
   "source": [
    "# Methods\n",
    "* Key \n",
    "* Items\n",
    "* Value\n",
    "* Update"
   ]
  },
  {
   "cell_type": "code",
   "execution_count": 33,
   "id": "0e67739d",
   "metadata": {},
   "outputs": [
    {
     "data": {
      "text/plain": [
       "{'name': 'Bhauballi',\n",
       " 'age': 30,\n",
       " 'hobby': 'Mashmati ki suraksha',\n",
       " 'weapons': ['talwar', 'bhala', 'toop', 'dhanus'],\n",
       " 'dusraDist': {'name': 'Bhaladev', 'age': 35},\n",
       " 1: 2}"
      ]
     },
     "execution_count": 33,
     "metadata": {},
     "output_type": "execute_result"
    }
   ],
   "source": [
    "myDict"
   ]
  },
  {
   "cell_type": "code",
   "execution_count": 34,
   "id": "9f919f27",
   "metadata": {},
   "outputs": [
    {
     "data": {
      "text/plain": [
       "dict"
      ]
     },
     "execution_count": 34,
     "metadata": {},
     "output_type": "execute_result"
    }
   ],
   "source": [
    "type(myDict)"
   ]
  },
  {
   "cell_type": "code",
   "execution_count": 35,
   "id": "8710f936",
   "metadata": {},
   "outputs": [
    {
     "data": {
      "text/plain": [
       "dict_keys(['name', 'age', 'hobby', 'weapons', 'dusraDist', 1])"
      ]
     },
     "execution_count": 35,
     "metadata": {},
     "output_type": "execute_result"
    }
   ],
   "source": [
    "# keys\n",
    "myDict.keys()"
   ]
  },
  {
   "cell_type": "code",
   "execution_count": 42,
   "id": "7a132c6d",
   "metadata": {},
   "outputs": [
    {
     "name": "stdout",
     "output_type": "stream",
     "text": [
      "['name', 'age', 'hobby', 'weapons', 'dusraDist', 1]\n"
     ]
    }
   ],
   "source": [
    "x = list(myDict.keys())\n",
    "print(x)"
   ]
  },
  {
   "cell_type": "code",
   "execution_count": 41,
   "id": "b2fcd2d3",
   "metadata": {},
   "outputs": [
    {
     "data": {
      "text/plain": [
       "list"
      ]
     },
     "execution_count": 41,
     "metadata": {},
     "output_type": "execute_result"
    }
   ],
   "source": [
    "type(x)"
   ]
  },
  {
   "cell_type": "code",
   "execution_count": 43,
   "id": "a69c938f",
   "metadata": {},
   "outputs": [
    {
     "data": {
      "text/plain": [
       "dict_items([('name', 'Bhauballi'), ('age', 30), ('hobby', 'Mashmati ki suraksha'), ('weapons', ['talwar', 'bhala', 'toop', 'dhanus']), ('dusraDist', {'name': 'Bhaladev', 'age': 35}), (1, 2)])"
      ]
     },
     "execution_count": 43,
     "metadata": {},
     "output_type": "execute_result"
    }
   ],
   "source": [
    "# Items\n",
    "myDict.items()"
   ]
  },
  {
   "cell_type": "code",
   "execution_count": 44,
   "id": "91993524",
   "metadata": {},
   "outputs": [
    {
     "data": {
      "text/plain": [
       "dict_items"
      ]
     },
     "execution_count": 44,
     "metadata": {},
     "output_type": "execute_result"
    }
   ],
   "source": [
    "type(myDict.items())"
   ]
  },
  {
   "cell_type": "code",
   "execution_count": 45,
   "id": "8651fc48",
   "metadata": {},
   "outputs": [
    {
     "data": {
      "text/plain": [
       "dict_values(['Bhauballi', 30, 'Mashmati ki suraksha', ['talwar', 'bhala', 'toop', 'dhanus'], {'name': 'Bhaladev', 'age': 35}, 2])"
      ]
     },
     "execution_count": 45,
     "metadata": {},
     "output_type": "execute_result"
    }
   ],
   "source": [
    "# values\n",
    "myDict.values()"
   ]
  },
  {
   "cell_type": "code",
   "execution_count": 47,
   "id": "5791adcf",
   "metadata": {},
   "outputs": [],
   "source": [
    "#update\n",
    "myUpdate = {\n",
    "    1:100\n",
    "}\n",
    "myDict.update(myUpdate)"
   ]
  },
  {
   "cell_type": "code",
   "execution_count": 48,
   "id": "cbfdef0a",
   "metadata": {},
   "outputs": [
    {
     "data": {
      "text/plain": [
       "{'name': 'Bhauballi',\n",
       " 'age': 30,\n",
       " 'hobby': 'Mashmati ki suraksha',\n",
       " 'weapons': ['talwar', 'bhala', 'toop', 'dhanus'],\n",
       " 'dusraDist': {'name': 'Bhaladev', 'age': 35},\n",
       " 1: 100}"
      ]
     },
     "execution_count": 48,
     "metadata": {},
     "output_type": "execute_result"
    }
   ],
   "source": [
    "myDict"
   ]
  },
  {
   "cell_type": "code",
   "execution_count": 59,
   "id": "41893df2",
   "metadata": {},
   "outputs": [],
   "source": [
    "myDict.update({\n",
    "    'name':'Jay veeru',\n",
    "    1:500,\n",
    "    'vegetable':'fox'\n",
    "})"
   ]
  },
  {
   "cell_type": "code",
   "execution_count": 60,
   "id": "f6d79961",
   "metadata": {},
   "outputs": [
    {
     "data": {
      "text/plain": [
       "{'name': 'Jay veeru',\n",
       " 'age': 30,\n",
       " 'hobby': 'Mashmati ki suraksha',\n",
       " 'weapons': ['talwar', 'bhala', 'toop', 'dhanus'],\n",
       " 'dusraDist': {'name': 'Bhaladev', 'age': 35},\n",
       " 1: 500,\n",
       " 'animal': 'fox',\n",
       " 'vegetable': 'fox',\n",
       " 'first_name': 'Jay veeru'}"
      ]
     },
     "execution_count": 60,
     "metadata": {},
     "output_type": "execute_result"
    }
   ],
   "source": [
    "myDict"
   ]
  },
  {
   "cell_type": "code",
   "execution_count": 67,
   "id": "240e18b4",
   "metadata": {},
   "outputs": [],
   "source": [
    "#set\n",
    "s =  {'Programmer',12,'Python'}"
   ]
  },
  {
   "cell_type": "code",
   "execution_count": 68,
   "id": "cd821722",
   "metadata": {},
   "outputs": [
    {
     "data": {
      "text/plain": [
       "{12, 'Programmer', 'Python'}"
      ]
     },
     "execution_count": 68,
     "metadata": {},
     "output_type": "execute_result"
    }
   ],
   "source": [
    "s"
   ]
  },
  {
   "cell_type": "code",
   "execution_count": 69,
   "id": "6ac6a44c",
   "metadata": {},
   "outputs": [
    {
     "data": {
      "text/plain": [
       "set"
      ]
     },
     "execution_count": 69,
     "metadata": {},
     "output_type": "execute_result"
    }
   ],
   "source": [
    "type(s)"
   ]
  },
  {
   "cell_type": "code",
   "execution_count": 86,
   "id": "97166630",
   "metadata": {},
   "outputs": [],
   "source": [
    "t ={\n",
    "    1\n",
    "}"
   ]
  },
  {
   "cell_type": "code",
   "execution_count": 87,
   "id": "6b67a1c2",
   "metadata": {},
   "outputs": [
    {
     "data": {
      "text/plain": [
       "{1}"
      ]
     },
     "execution_count": 87,
     "metadata": {},
     "output_type": "execute_result"
    }
   ],
   "source": [
    "t"
   ]
  },
  {
   "cell_type": "code",
   "execution_count": 88,
   "id": "7ef01fe1",
   "metadata": {},
   "outputs": [
    {
     "data": {
      "text/plain": [
       "set"
      ]
     },
     "execution_count": 88,
     "metadata": {},
     "output_type": "execute_result"
    }
   ],
   "source": [
    "type(t)"
   ]
  },
  {
   "cell_type": "code",
   "execution_count": null,
   "id": "c152c679",
   "metadata": {},
   "outputs": [],
   "source": []
  }
 ],
 "metadata": {
  "kernelspec": {
   "display_name": "Python 3",
   "language": "python",
   "name": "python3"
  },
  "language_info": {
   "codemirror_mode": {
    "name": "ipython",
    "version": 3
   },
   "file_extension": ".py",
   "mimetype": "text/x-python",
   "name": "python",
   "nbconvert_exporter": "python",
   "pygments_lexer": "ipython3",
   "version": "3.8.8"
  }
 },
 "nbformat": 4,
 "nbformat_minor": 5
}
