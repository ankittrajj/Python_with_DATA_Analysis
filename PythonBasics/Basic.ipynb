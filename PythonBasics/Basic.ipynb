{
 "cells": [
  {
   "cell_type": "code",
   "execution_count": 1,
   "id": "d95225ea",
   "metadata": {},
   "outputs": [
    {
     "name": "stdout",
     "output_type": "stream",
     "text": [
      "ankit\n"
     ]
    }
   ],
   "source": [
    "print('ankit')"
   ]
  },
  {
   "cell_type": "code",
   "execution_count": 2,
   "id": "01483213",
   "metadata": {},
   "outputs": [
    {
     "name": "stdout",
     "output_type": "stream",
     "text": [
      "fjkfbjdfbfb\n"
     ]
    }
   ],
   "source": [
    "print('fjkfbjdfbfb')"
   ]
  },
  {
   "cell_type": "code",
   "execution_count": 3,
   "id": "4cad95f7",
   "metadata": {},
   "outputs": [
    {
     "name": "stdout",
     "output_type": "stream",
     "text": [
      "Hello World\n"
     ]
    }
   ],
   "source": [
    "print(\"Hello World\")"
   ]
  },
  {
   "cell_type": "code",
   "execution_count": 5,
   "id": "3fd42451",
   "metadata": {},
   "outputs": [
    {
     "name": "stdout",
     "output_type": "stream",
     "text": [
      "ghjjhfhfjdfdhfhjhjg\n"
     ]
    }
   ],
   "source": [
    "print('ghjjhfhfjdfdhfhjhjg')"
   ]
  },
  {
   "cell_type": "code",
   "execution_count": 6,
   "id": "164ca4ad",
   "metadata": {},
   "outputs": [
    {
     "name": "stdout",
     "output_type": "stream",
     "text": [
      "3\n"
     ]
    }
   ],
   "source": [
    "print(3)"
   ]
  },
  {
   "cell_type": "code",
   "execution_count": 7,
   "id": "78baa899",
   "metadata": {},
   "outputs": [
    {
     "name": "stdout",
     "output_type": "stream",
     "text": [
      "3\n"
     ]
    }
   ],
   "source": [
    "print(\"3\")"
   ]
  },
  {
   "cell_type": "markdown",
   "id": "43dd6060",
   "metadata": {},
   "source": [
    "# Data Type & Variable\n",
    "* int\n",
    "* float\n",
    "* complex\n",
    "* none\n",
    "* String "
   ]
  },
  {
   "cell_type": "code",
   "execution_count": 8,
   "id": "df3a7c56",
   "metadata": {},
   "outputs": [],
   "source": [
    "a = 10"
   ]
  },
  {
   "cell_type": "code",
   "execution_count": 9,
   "id": "06837f19",
   "metadata": {},
   "outputs": [
    {
     "name": "stdout",
     "output_type": "stream",
     "text": [
      "10\n"
     ]
    }
   ],
   "source": [
    "print(a)"
   ]
  },
  {
   "cell_type": "code",
   "execution_count": 10,
   "id": "41a1b535",
   "metadata": {},
   "outputs": [
    {
     "name": "stdout",
     "output_type": "stream",
     "text": [
      "<class 'int'>\n"
     ]
    }
   ],
   "source": [
    "print(type(a))"
   ]
  },
  {
   "cell_type": "code",
   "execution_count": 12,
   "id": "c18ba231",
   "metadata": {},
   "outputs": [
    {
     "name": "stdout",
     "output_type": "stream",
     "text": [
      "10.34\n"
     ]
    }
   ],
   "source": [
    "#float\n",
    "a=10.34\n",
    "print(a);"
   ]
  },
  {
   "cell_type": "code",
   "execution_count": 13,
   "id": "f00ccbd3",
   "metadata": {},
   "outputs": [
    {
     "name": "stdout",
     "output_type": "stream",
     "text": [
      "<class 'float'>\n"
     ]
    }
   ],
   "source": [
    "print(type(a))"
   ]
  },
  {
   "cell_type": "code",
   "execution_count": 18,
   "id": "438baeba",
   "metadata": {},
   "outputs": [
    {
     "name": "stdout",
     "output_type": "stream",
     "text": [
      "(2+3j)\n"
     ]
    }
   ],
   "source": [
    "x = 2+3j\n",
    "print(x)"
   ]
  },
  {
   "cell_type": "code",
   "execution_count": 19,
   "id": "1cf52d8a",
   "metadata": {},
   "outputs": [
    {
     "name": "stdout",
     "output_type": "stream",
     "text": [
      "<class 'complex'>\n"
     ]
    }
   ],
   "source": [
    "print(type(x))"
   ]
  },
  {
   "cell_type": "code",
   "execution_count": 20,
   "id": "1de4f3db",
   "metadata": {},
   "outputs": [],
   "source": [
    "#none ----> value is empty none data type"
   ]
  },
  {
   "cell_type": "code",
   "execution_count": 22,
   "id": "6c15e8cc",
   "metadata": {},
   "outputs": [
    {
     "name": "stdout",
     "output_type": "stream",
     "text": [
      "7\n"
     ]
    }
   ],
   "source": [
    "x=7\n",
    "print(x)"
   ]
  },
  {
   "cell_type": "code",
   "execution_count": 23,
   "id": "659d1e2d",
   "metadata": {},
   "outputs": [
    {
     "name": "stdout",
     "output_type": "stream",
     "text": [
      "adfshgd\n"
     ]
    }
   ],
   "source": [
    "#none data type --- google\n",
    "#string\n",
    "print('adfshgd')"
   ]
  },
  {
   "cell_type": "code",
   "execution_count": 25,
   "id": "94e3a24f",
   "metadata": {},
   "outputs": [
    {
     "name": "stdout",
     "output_type": "stream",
     "text": [
      "a\n"
     ]
    }
   ],
   "source": [
    "x = 'a';\n",
    "print(x)"
   ]
  },
  {
   "cell_type": "code",
   "execution_count": 26,
   "id": "ea78e9b5",
   "metadata": {},
   "outputs": [
    {
     "name": "stdout",
     "output_type": "stream",
     "text": [
      "<class 'str'>\n"
     ]
    }
   ],
   "source": [
    "print(type(x))"
   ]
  },
  {
   "cell_type": "code",
   "execution_count": 28,
   "id": "d76c2b19",
   "metadata": {},
   "outputs": [],
   "source": [
    "x = 'gfhdsfhdf14242562@#@#@#'"
   ]
  },
  {
   "cell_type": "code",
   "execution_count": 29,
   "id": "8ac44a24",
   "metadata": {},
   "outputs": [
    {
     "name": "stdout",
     "output_type": "stream",
     "text": [
      "gfhdsfhdf14242562@#@#@#\n"
     ]
    }
   ],
   "source": [
    "print(x)"
   ]
  },
  {
   "cell_type": "code",
   "execution_count": 30,
   "id": "37cd715e",
   "metadata": {},
   "outputs": [
    {
     "name": "stdout",
     "output_type": "stream",
     "text": [
      "<class 'str'>\n"
     ]
    }
   ],
   "source": [
    "print(type(x))"
   ]
  },
  {
   "cell_type": "code",
   "execution_count": 35,
   "id": "0940926f",
   "metadata": {},
   "outputs": [
    {
     "name": "stdout",
     "output_type": "stream",
     "text": [
      "5\n",
      "-1\n",
      "6\n",
      "2.5\n"
     ]
    }
   ],
   "source": [
    "#operators\n",
    "# airthmetic\n",
    "#assignment\n",
    "# logical\n",
    "# 1.airthmetic---> +,-,*,/\n",
    "print(2+3);\n",
    "print(2-3);\n",
    "print(2*3);\n",
    "print(5/2);"
   ]
  },
  {
   "cell_type": "code",
   "execution_count": 36,
   "id": "6c49c0e3",
   "metadata": {},
   "outputs": [
    {
     "name": "stdout",
     "output_type": "stream",
     "text": [
      "10\n"
     ]
    }
   ],
   "source": [
    "a=10;\n",
    "print(a)"
   ]
  },
  {
   "cell_type": "code",
   "execution_count": 37,
   "id": "a04e25e5",
   "metadata": {},
   "outputs": [
    {
     "name": "stdout",
     "output_type": "stream",
     "text": [
      "10\n"
     ]
    }
   ],
   "source": [
    "#assignment \n",
    "a=10;\n",
    "print(a);"
   ]
  },
  {
   "cell_type": "code",
   "execution_count": 46,
   "id": "7659057e",
   "metadata": {},
   "outputs": [
    {
     "name": "stdout",
     "output_type": "stream",
     "text": [
      "False\n",
      "True\n",
      "True\n",
      "False\n",
      "False\n",
      "True\n",
      "True\n"
     ]
    }
   ],
   "source": [
    "#comparision operator\n",
    "# <,>,<=,>=,==,!=   == is equal to x=a+b  !=not equal to\n",
    "print(2>3);\n",
    "print(3<6);\n",
    "print(3<=4);\n",
    "print(4>=6);\n",
    "print(2==3);\n",
    "print(2==2);\n",
    "print(2.0==2);"
   ]
  },
  {
   "cell_type": "code",
   "execution_count": 49,
   "id": "fe00ed37",
   "metadata": {},
   "outputs": [
    {
     "name": "stdout",
     "output_type": "stream",
     "text": [
      "True\n",
      "False\n",
      "True\n"
     ]
    }
   ],
   "source": [
    "print(2!=3);\n",
    "print(2!=2.0);\n",
    "print(2!=1);"
   ]
  },
  {
   "cell_type": "code",
   "execution_count": 50,
   "id": "a6854a35",
   "metadata": {},
   "outputs": [
    {
     "name": "stdout",
     "output_type": "stream",
     "text": [
      "False\n"
     ]
    }
   ],
   "source": [
    "print(2.0!=2.0)"
   ]
  },
  {
   "cell_type": "code",
   "execution_count": 51,
   "id": "86a5d714",
   "metadata": {},
   "outputs": [
    {
     "name": "stdout",
     "output_type": "stream",
     "text": [
      "False\n"
     ]
    }
   ],
   "source": [
    "print(2!=2)"
   ]
  },
  {
   "cell_type": "code",
   "execution_count": 52,
   "id": "973c9113",
   "metadata": {},
   "outputs": [
    {
     "ename": "NameError",
     "evalue": "name 'string' is not defined",
     "output_type": "error",
     "traceback": [
      "\u001b[1;31m---------------------------------------------------------------------------\u001b[0m",
      "\u001b[1;31mNameError\u001b[0m                                 Traceback (most recent call last)",
      "\u001b[1;32m<ipython-input-52-e34c00250af9>\u001b[0m in \u001b[0;36m<module>\u001b[1;34m\u001b[0m\n\u001b[1;32m----> 1\u001b[1;33m \u001b[0mstring\u001b[0m\u001b[1;33m(\u001b[0m\u001b[1;34m\"dhjfvjhfv2323236757@#$@$#@\"\u001b[0m\u001b[1;33m)\u001b[0m\u001b[1;33m\u001b[0m\u001b[1;33m\u001b[0m\u001b[0m\n\u001b[0m",
      "\u001b[1;31mNameError\u001b[0m: name 'string' is not defined"
     ]
    }
   ],
   "source": [
    "string(\"dhjfvjhfv2323236757@#$@$#@\")"
   ]
  },
  {
   "cell_type": "code",
   "execution_count": null,
   "id": "bf6f1da2",
   "metadata": {},
   "outputs": [],
   "source": []
  },
  {
   "cell_type": "code",
   "execution_count": 53,
   "id": "99f43d39",
   "metadata": {},
   "outputs": [],
   "source": [
    "x = 57878999064"
   ]
  },
  {
   "cell_type": "code",
   "execution_count": 54,
   "id": "7757e578",
   "metadata": {},
   "outputs": [
    {
     "name": "stdout",
     "output_type": "stream",
     "text": [
      "57878999064\n"
     ]
    }
   ],
   "source": [
    "print(x)"
   ]
  },
  {
   "cell_type": "code",
   "execution_count": 58,
   "id": "2377f914",
   "metadata": {},
   "outputs": [
    {
     "name": "stdout",
     "output_type": "stream",
     "text": [
      "2.0\n"
     ]
    }
   ],
   "source": [
    "#int - float\n",
    "x = float(2);\n",
    "print(x);"
   ]
  },
  {
   "cell_type": "code",
   "execution_count": 59,
   "id": "50616685",
   "metadata": {},
   "outputs": [
    {
     "name": "stdout",
     "output_type": "stream",
     "text": [
      "<class 'float'>\n"
     ]
    }
   ],
   "source": [
    "print(type(x))"
   ]
  },
  {
   "cell_type": "code",
   "execution_count": 64,
   "id": "a1c23e2d",
   "metadata": {},
   "outputs": [
    {
     "name": "stdout",
     "output_type": "stream",
     "text": [
      "3\n"
     ]
    }
   ],
   "source": [
    "# float -int \n",
    "x = int(3.898687678587585);\n",
    "print(x)"
   ]
  },
  {
   "cell_type": "code",
   "execution_count": 63,
   "id": "174e6ffa",
   "metadata": {},
   "outputs": [
    {
     "name": "stdout",
     "output_type": "stream",
     "text": [
      "<class 'int'>\n"
     ]
    }
   ],
   "source": [
    "print(type(x))"
   ]
  },
  {
   "cell_type": "code",
   "execution_count": 73,
   "id": "99ee0448",
   "metadata": {},
   "outputs": [
    {
     "name": "stdout",
     "output_type": "stream",
     "text": [
      "ankit\n"
     ]
    }
   ],
   "source": [
    "x = str('ankit');\n",
    "print(x);"
   ]
  },
  {
   "cell_type": "code",
   "execution_count": 74,
   "id": "a9ef06f5",
   "metadata": {},
   "outputs": [
    {
     "name": "stdout",
     "output_type": "stream",
     "text": [
      "<class 'str'>\n"
     ]
    }
   ],
   "source": [
    "print(type(x))"
   ]
  },
  {
   "cell_type": "code",
   "execution_count": 75,
   "id": "b3383748",
   "metadata": {},
   "outputs": [
    {
     "name": "stdout",
     "output_type": "stream",
     "text": [
      "Enter your nameAnkit\n",
      "Ankit\n"
     ]
    }
   ],
   "source": [
    "# input-value insert \n",
    "x = input(\"Enter your name\");\n",
    "print(x);"
   ]
  },
  {
   "cell_type": "code",
   "execution_count": 77,
   "id": "1620eab0",
   "metadata": {},
   "outputs": [
    {
     "name": "stdout",
     "output_type": "stream",
     "text": [
      "enter the first num1\n",
      "enter the second num 2\n",
      "3\n"
     ]
    }
   ],
   "source": [
    "x = int(input(\"enter the first num\"));\n",
    "y = int(input(\"enter the second num \"));\n",
    "print(x+y);"
   ]
  },
  {
   "cell_type": "code",
   "execution_count": null,
   "id": "1da250af",
   "metadata": {},
   "outputs": [],
   "source": []
  }
 ],
 "metadata": {
  "kernelspec": {
   "display_name": "Python 3",
   "language": "python",
   "name": "python3"
  },
  "language_info": {
   "codemirror_mode": {
    "name": "ipython",
    "version": 3
   },
   "file_extension": ".py",
   "mimetype": "text/x-python",
   "name": "python",
   "nbconvert_exporter": "python",
   "pygments_lexer": "ipython3",
   "version": "3.8.8"
  }
 },
 "nbformat": 4,
 "nbformat_minor": 5
}
